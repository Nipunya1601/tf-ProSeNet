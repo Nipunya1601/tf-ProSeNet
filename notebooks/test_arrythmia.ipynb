{
 "cells": [
  {
   "cell_type": "code",
   "execution_count": 1,
   "metadata": {},
   "outputs": [],
   "source": [
    "import numpy as np\n",
    "from tensorflow.keras import optimizers\n",
    "\n",
    "from prosenet import ProSeNet, datasets"
   ]
  },
  {
   "cell_type": "code",
   "execution_count": 2,
   "metadata": {},
   "outputs": [
    {
     "name": "stdout",
     "output_type": "stream",
     "text": [
      "Model: \"pro_se_net\"\n",
      "_________________________________________________________________\n",
      "Layer (type)                 Output Shape              Param #   \n",
      "=================================================================\n",
      "sequential (Sequential)      (None, 64)                58368     \n",
      "_________________________________________________________________\n",
      "prototypes (Prototypes)      multiple                  1920      \n",
      "_________________________________________________________________\n",
      "classifier (Dense)           multiple                  150       \n",
      "=================================================================\n",
      "Total params: 60,438\n",
      "Trainable params: 60,438\n",
      "Non-trainable params: 0\n",
      "_________________________________________________________________\n"
     ]
    }
   ],
   "source": [
    "# Set any non-default args\n",
    "new_rnn_args = {\n",
    "    'layers' : [32, 32, 32]\n",
    "}\n",
    "\n",
    "new_proto_args = {\n",
    "    'dmin' : 2.0,\n",
    "    'Ld' : 0.01,\n",
    "    'Lc' : 0.0,\n",
    "    'Le' : 1.0\n",
    "}\n",
    "\n",
    "pnet = ProSeNet(input_shape=(187, 1), nclasses=5, k=30, \n",
    "            rnn_args=new_rnn_args,\n",
    "            prototypes_args=new_proto_args)\n",
    "\n",
    "pnet.build( (None, 187, 1) )\n",
    "\n",
    "pnet.summary()"
   ]
  },
  {
   "cell_type": "code",
   "execution_count": 3,
   "metadata": {},
   "outputs": [
    {
     "name": "stdout",
     "output_type": "stream",
     "text": [
      "MIT-BIH Arrhythmia Dataset\n",
      "Num classes: 5\n",
      "Input shape: (187, 1)\n",
      "\n"
     ]
    }
   ],
   "source": [
    "data = datasets.ArrhythmiaDataset('../data/')\n",
    "print(data)"
   ]
  },
  {
   "cell_type": "code",
   "execution_count": 4,
   "metadata": {},
   "outputs": [],
   "source": [
    "train_gen = datasets.DataGenerator(data.X_train, data.y_train, batch_size=128)\n",
    "\n",
    "test_gen = datasets.DataGenerator(data.X_test, data.y_test, batch_size=128)"
   ]
  },
  {
   "cell_type": "code",
   "execution_count": 5,
   "metadata": {
    "scrolled": false
   },
   "outputs": [
    {
     "name": "stdout",
     "output_type": "stream",
     "text": [
      "685/685 [==============================] - 67s 97ms/step - loss: 52.7381 - accuracy: 0.5439 - val_loss: 2.3151 - val_accuracy: 0.8277\n"
     ]
    },
    {
     "data": {
      "text/plain": [
       "<tensorflow.python.keras.callbacks.History at 0x7fe7885e15f8>"
      ]
     },
     "execution_count": 5,
     "metadata": {},
     "output_type": "execute_result"
    }
   ],
   "source": [
    "sgd = optimizers.SGD(learning_rate=0.001)\n",
    "\n",
    "pnet.compile(optimizer=sgd, loss='categorical_crossentropy', metrics=['accuracy'])\n",
    "\n",
    "pnet.fit_generator(train_gen, validation_data=test_gen, epochs=12, shuffle=False)"
   ]
  },
  {
   "cell_type": "code",
   "execution_count": 6,
   "metadata": {},
   "outputs": [
    {
     "data": {
      "text/plain": [
       "array([[0.33492956, 0.10209967, 0.15463914, 0.13533103, 0.27300063]],\n",
       "      dtype=float32)"
      ]
     },
     "execution_count": 6,
     "metadata": {},
     "output_type": "execute_result"
    }
   ],
   "source": [
    "pnet.predict(data.X_train[np.newaxis,:3,:], batch_size=1)"
   ]
  },
  {
   "cell_type": "code",
   "execution_count": 7,
   "metadata": {},
   "outputs": [
    {
     "data": {
      "text/plain": [
       "array([1., 0., 0., 0., 0.], dtype=float32)"
      ]
     },
     "execution_count": 7,
     "metadata": {},
     "output_type": "execute_result"
    }
   ],
   "source": [
    "data.y_train[:3]"
   ]
  },
  {
   "cell_type": "code",
   "execution_count": 9,
   "metadata": {},
   "outputs": [
    {
     "data": {
      "text/plain": [
       "array([[0.33492956, 0.10209967, 0.15463914, 0.13533103, 0.27300063]],\n",
       "      dtype=float32)"
      ]
     },
     "execution_count": 9,
     "metadata": {},
     "output_type": "execute_result"
    }
   ],
   "source": [
    "pnet.predict(data.X_test[np.newaxis,:3,:], batch_size=1)"
   ]
  },
  {
   "cell_type": "code",
   "execution_count": 10,
   "metadata": {},
   "outputs": [
    {
     "data": {
      "text/plain": [
       "array([1., 0., 0., 0., 0.], dtype=float32)"
      ]
     },
     "execution_count": 10,
     "metadata": {},
     "output_type": "execute_result"
    }
   ],
   "source": [
    "data.y_test[0:3]"
   ]
  },
  {
   "cell_type": "code",
   "execution_count": null,
   "metadata": {},
   "outputs": [],
   "source": []
  }
 ],
 "metadata": {
  "kernelspec": {
   "display_name": "Python 3",
   "language": "python",
   "name": "python3"
  },
  "language_info": {
   "codemirror_mode": {
    "name": "ipython",
    "version": 3
   },
   "file_extension": ".py",
   "mimetype": "text/x-python",
   "name": "python",
   "nbconvert_exporter": "python",
   "pygments_lexer": "ipython3",
   "version": "3.7.3"
  }
 },
 "nbformat": 4,
 "nbformat_minor": 2
}
