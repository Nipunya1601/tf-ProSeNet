{
 "cells": [
  {
   "cell_type": "code",
   "execution_count": 1,
   "metadata": {},
   "outputs": [],
   "source": [
    "import numpy as np\n",
    "import matplotlib.pyplot as plt\n",
    "\n",
    "from sklearn.utils import class_weight\n",
    "from tensorflow.keras import optimizers, regularizers\n",
    "\n",
    "from prosenet import ProSeNet, datasets"
   ]
  },
  {
   "cell_type": "code",
   "execution_count": 2,
   "metadata": {},
   "outputs": [
    {
     "name": "stdout",
     "output_type": "stream",
     "text": [
      "Model: \"pro_se_net\"\n",
      "_________________________________________________________________\n",
      "Layer (type)                 Output Shape              Param #   \n",
      "=================================================================\n",
      "sequential (Sequential)      (None, 64)                58368     \n",
      "_________________________________________________________________\n",
      "prototypes (Prototypes)      multiple                  1920      \n",
      "_________________________________________________________________\n",
      "classifier (Dense)           multiple                  150       \n",
      "=================================================================\n",
      "Total params: 60,438\n",
      "Trainable params: 60,438\n",
      "Non-trainable params: 0\n",
      "_________________________________________________________________\n"
     ]
    }
   ],
   "source": [
    "# Set any non-default args\n",
    "new_rnn_args = {\n",
    "    'layers' : [32, 32, 32],\n",
    "    'layer_args' : {\n",
    "        'dropout' : 0.1,\n",
    "        'activity_regularizer' : regularizers.l2(0.5)\n",
    "    }\n",
    "}\n",
    "\n",
    "new_proto_args = {\n",
    "    'dmin' : 2.0,\n",
    "    'Ld' : 1.0, #0.1,\n",
    "    'Lc' : 0.01,\n",
    "    'Le' : 0.1 #1.0\n",
    "}\n",
    "\n",
    "pnet = ProSeNet(input_shape=(187, 1), \n",
    "                nclasses=5, \n",
    "                k=30, \n",
    "                rnn_args=new_rnn_args,\n",
    "                prototypes_args=new_proto_args,\n",
    "                L1=0.0)\n",
    "\n",
    "pnet.build( (None, 187, 1) )\n",
    "\n",
    "pnet.summary()"
   ]
  },
  {
   "cell_type": "code",
   "execution_count": 3,
   "metadata": {},
   "outputs": [
    {
     "name": "stdout",
     "output_type": "stream",
     "text": [
      "MIT-BIH Arrhythmia Dataset\n",
      "Num classes: 5\n",
      "Input shape: (187, 1)\n",
      "\n"
     ]
    }
   ],
   "source": [
    "data = datasets.ArrhythmiaDataset('../data/')\n",
    "print(data)"
   ]
  },
  {
   "cell_type": "code",
   "execution_count": 4,
   "metadata": {},
   "outputs": [],
   "source": [
    "train_gen = datasets.DataGenerator(data.X_train, data.y_train, batch_size=128)\n",
    "\n",
    "test_gen = datasets.DataGenerator(data.X_test, data.y_test, batch_size=128)\n",
    "\n",
    "class_weights = 1 - (np.bincount(np.argmax(data.y_train, 1)) / data.y_train.shape[0])\n",
    "\n",
    "# Setting class 0 to 0.001, need to just get it to stop overfitting that class\n",
    "class_weights[0] = 0.0"
   ]
  },
  {
   "cell_type": "code",
   "execution_count": 5,
   "metadata": {
    "scrolled": false
   },
   "outputs": [
    {
     "name": "stdout",
     "output_type": "stream",
     "text": [
      "Epoch 1/2\n",
      "685/685 [==============================] - 75s 109ms/step - loss: 2793.1198 - accuracy: 0.7854 - val_loss: 934.9437 - val_accuracy: 0.8276\n",
      "Epoch 2/2\n",
      "685/685 [==============================] - 72s 105ms/step - loss: 2805.7520 - accuracy: 0.8276 - val_loss: 934.7495 - val_accuracy: 0.8276\n"
     ]
    },
    {
     "data": {
      "text/plain": [
       "<tensorflow.python.keras.callbacks.History at 0x7fa765251898>"
      ]
     },
     "execution_count": 5,
     "metadata": {},
     "output_type": "execute_result"
    }
   ],
   "source": [
    "sgd = optimizers.SGD(learning_rate=0.1, clipnorm=5.0)\n",
    "\n",
    "pnet.compile(optimizer=sgd, loss='categorical_crossentropy', metrics=['accuracy'])\n",
    "\n",
    "pnet.fit_generator(train_gen, \n",
    "                   validation_data=test_gen, \n",
    "                   epochs=2,\n",
    "                   class_weight=class_weights,\n",
    "                   shuffle=False)"
   ]
  },
  {
   "cell_type": "code",
   "execution_count": 6,
   "metadata": {},
   "outputs": [
    {
     "data": {
      "text/plain": [
       "array([[0.8950023 , 0.01932888, 0.03908747, 0.00643993, 0.04014139],\n",
       "       [0.8950024 , 0.01932886, 0.03908744, 0.00643992, 0.04014134],\n",
       "       [0.8950024 , 0.01932886, 0.03908744, 0.00643992, 0.04014134]],\n",
       "      dtype=float32)"
      ]
     },
     "execution_count": 6,
     "metadata": {},
     "output_type": "execute_result"
    }
   ],
   "source": [
    "pnet.predict(data.X_train[:3,:], batch_size=1)"
   ]
  },
  {
   "cell_type": "code",
   "execution_count": 7,
   "metadata": {},
   "outputs": [
    {
     "data": {
      "text/plain": [
       "array([[1., 0., 0., 0., 0.],\n",
       "       [1., 0., 0., 0., 0.],\n",
       "       [1., 0., 0., 0., 0.]], dtype=float32)"
      ]
     },
     "execution_count": 7,
     "metadata": {},
     "output_type": "execute_result"
    }
   ],
   "source": [
    "data.y_train[:3]"
   ]
  },
  {
   "cell_type": "code",
   "execution_count": 8,
   "metadata": {},
   "outputs": [
    {
     "data": {
      "text/plain": [
       "array([[0.8950024 , 0.01932887, 0.03908744, 0.00643992, 0.04014136],\n",
       "       [0.8950024 , 0.01932886, 0.03908744, 0.00643992, 0.04014134],\n",
       "       [0.89500207, 0.01932891, 0.03908754, 0.00643994, 0.04014145]],\n",
       "      dtype=float32)"
      ]
     },
     "execution_count": 8,
     "metadata": {},
     "output_type": "execute_result"
    }
   ],
   "source": [
    "pnet.predict(data.X_test[-3:,:], batch_size=1)"
   ]
  },
  {
   "cell_type": "code",
   "execution_count": 9,
   "metadata": {},
   "outputs": [
    {
     "data": {
      "text/plain": [
       "array([[0., 0., 0., 0., 1.],\n",
       "       [0., 0., 0., 0., 1.],\n",
       "       [0., 0., 0., 0., 1.]], dtype=float32)"
      ]
     },
     "execution_count": 9,
     "metadata": {},
     "output_type": "execute_result"
    }
   ],
   "source": [
    "data.y_test[-3:]"
   ]
  },
  {
   "cell_type": "code",
   "execution_count": 10,
   "metadata": {},
   "outputs": [
    {
     "data": {
      "text/plain": [
       "[<matplotlib.lines.Line2D at 0x7fa578f3c550>]"
      ]
     },
     "execution_count": 10,
     "metadata": {},
     "output_type": "execute_result"
    },
    {
     "data": {
      "image/png": "[encoded data removed]",
      "text/plain": [
       "<Figure size 432x288 with 1 Axes>"
      ]
     },
     "metadata": {
      "needs_background": "light"
     },
     "output_type": "display_data"
    }
   ],
   "source": [
    "plt.plot(np.arange(187), data.X_train[-2])"
   ]
  },
  {
   "cell_type": "code",
   "execution_count": 11,
   "metadata": {},
   "outputs": [
    {
     "data": {
      "text/plain": [
       "array([0.        , 0.97460995, 0.93389223, 0.9926788 , 0.92654819])"
      ]
     },
     "execution_count": 11,
     "metadata": {},
     "output_type": "execute_result"
    }
   ],
   "source": [
    "class_weights"
   ]
  },
  {
   "cell_type": "code",
   "execution_count": 12,
   "metadata": {},
   "outputs": [
    {
     "data": {
      "text/plain": [
       "[<tf.Variable 'classifier/kernel:0' shape=(30, 5) dtype=float32, numpy=\n",
       " array([[0.09048506, 0.12542507, 0.03628762, 0.01283509, 0.01660775],\n",
       "        [0.09540263, 0.20285931, 0.03628762, 0.01283509, 0.07082349],\n",
       "        [0.11084569, 0.37440315, 0.03628762, 0.22352357, 0.15897498],\n",
       "        [0.08792616, 0.01488494, 0.08395585, 0.01283509, 0.1752603 ],\n",
       "        [0.13170233, 0.22020781, 0.03628762, 0.01283509, 0.01660775],\n",
       "        [0.08792616, 0.01488494, 0.03628762, 0.12802368, 0.15182118],\n",
       "        [0.2629886 , 0.01488494, 0.21035533, 0.16559017, 0.01660775],\n",
       "        [0.30563417, 0.01488494, 0.03628762, 0.26486003, 0.01660775],\n",
       "        [0.31449872, 0.01488494, 0.13142163, 0.11563697, 0.01660775],\n",
       "        [0.10164528, 0.32245687, 0.03628762, 0.3206175 , 0.01660775],\n",
       "        [0.46750432, 0.01488494, 0.3241684 , 0.01283509, 0.01660775],\n",
       "        [0.09014615, 0.01488494, 0.22886066, 0.01283509, 0.01660775],\n",
       "        [0.0951149 , 0.01567347, 0.2350141 , 0.11809453, 0.01660775],\n",
       "        [0.40007558, 0.01488494, 0.34548774, 0.10620552, 0.12988134],\n",
       "        [0.10661711, 0.01488494, 0.03628762, 0.20598142, 0.01660775],\n",
       "        [0.51063734, 0.01488494, 0.41151923, 0.18358284, 0.01660775],\n",
       "        [0.496847  , 0.01488494, 0.07793895, 0.01283509, 0.35005   ],\n",
       "        [0.09092499, 0.24196635, 0.33040783, 0.04294645, 0.01660775],\n",
       "        [0.35549057, 0.36394787, 0.18442784, 0.01283509, 0.38437065],\n",
       "        [0.09139085, 0.01488494, 0.10110558, 0.01283509, 0.0734199 ],\n",
       "        [0.10081144, 0.24533491, 0.03908147, 0.01283509, 0.29205504],\n",
       "        [0.09442091, 0.01488494, 0.13297614, 0.05216937, 0.329426  ],\n",
       "        [0.09424672, 0.14915475, 0.14589523, 0.01283509, 0.308731  ],\n",
       "        [0.19492222, 0.17189486, 0.03628762, 0.01283509, 0.39783093],\n",
       "        [0.6461994 , 0.16431913, 0.03628762, 0.01283509, 0.30489147],\n",
       "        [0.08792616, 0.01488494, 0.03628762, 0.01283509, 0.01660775],\n",
       "        [0.51148415, 0.05351654, 0.18239686, 0.01283509, 0.11218981],\n",
       "        [0.48838192, 0.0933483 , 0.32985216, 0.01283509, 0.3693915 ],\n",
       "        [0.08792616, 0.29264608, 0.03628762, 0.01283509, 0.15165834],\n",
       "        [0.5062816 , 0.01488494, 0.03628762, 0.01283509, 0.01660775]],\n",
       "       dtype=float32)>]"
      ]
     },
     "execution_count": 12,
     "metadata": {},
     "output_type": "execute_result"
    }
   ],
   "source": [
    "pnet.classifier.weights"
   ]
  },
  {
   "cell_type": "code",
   "execution_count": 13,
   "metadata": {},
   "outputs": [
    {
     "data": {
      "text/plain": [
       "array([[1., 1., 1., ..., 1., 1., 1.],\n",
       "       [1., 1., 1., ..., 1., 1., 1.],\n",
       "       [1., 1., 1., ..., 1., 1., 1.],\n",
       "       ...,\n",
       "       [1., 1., 1., ..., 1., 1., 1.],\n",
       "       [1., 1., 1., ..., 1., 1., 1.],\n",
       "       [1., 1., 1., ..., 1., 1., 1.]], dtype=float32)"
      ]
     },
     "execution_count": 13,
     "metadata": {},
     "output_type": "execute_result"
    }
   ],
   "source": [
    "protos = np.squeeze(pnet.prototypes_layer.weights[0].numpy())\n",
    "protos.min()"
   ]
  },
  {
   "cell_type": "code",
   "execution_count": 14,
   "metadata": {},
   "outputs": [
    {
     "data": {
      "text/plain": [
       "<matplotlib.image.AxesImage at 0x7fa578c6c518>"
      ]
     },
     "execution_count": 14,
     "metadata": {},
     "output_type": "execute_result"
    },
    {
     "data": {
      "image/png": "[encoded data removed]",
      "text/plain": [
       "<Figure size 614.4x288 with 1 Axes>"
      ]
     },
     "metadata": {
      "needs_background": "light"
     },
     "output_type": "display_data"
    }
   ],
   "source": [
    "plt.matshow(protos, cmap=plt.cm.RdBu)"
   ]
  },
  {
   "cell_type": "code",
   "execution_count": 15,
   "metadata": {},
   "outputs": [
    {
     "data": {
      "text/plain": [
       "array([[0.9996506 , 0.99965   , 0.99965024, 0.9996502 , 0.99965   ,\n",
       "        0.9996501 , 0.99965006, 0.99964994, 0.9996499 , 0.9996501 ,\n",
       "        0.9996502 , 0.99965006, 0.9996497 , 0.9996501 , 0.99964994,\n",
       "        0.9996502 , 0.9996499 , 0.99965036, 0.99965   , 0.99965   ,\n",
       "        0.99965006, 0.9996502 , 0.9996503 , 0.9996502 , 0.9996503 ,\n",
       "        0.9996499 , 0.99965   , 0.9996504 , 0.9996499 , 0.9996497 ,\n",
       "        0.99965024, 0.9996499 , 0.99965   , 0.9996502 , 0.99965036,\n",
       "        0.99964976, 0.99965036, 0.99964964, 0.99965066, 0.99965036,\n",
       "        0.9996501 , 0.99965006, 0.9996503 , 0.9996501 , 0.99964976,\n",
       "        0.9996502 , 0.99965006, 0.99965036, 0.99965024, 0.99965024,\n",
       "        0.99965   , 0.9996503 , 0.99965024, 0.9996503 , 0.9996503 ,\n",
       "        0.99965006, 0.99964994, 0.99965066, 0.99965   , 0.9996501 ,\n",
       "        0.99965   , 0.9996506 , 0.99965024, 0.9996503 ],\n",
       "       [0.9996506 , 0.99965   , 0.99965024, 0.9996502 , 0.99965   ,\n",
       "        0.9996501 , 0.99965006, 0.99964994, 0.9996499 , 0.9996501 ,\n",
       "        0.9996502 , 0.99965006, 0.9996497 , 0.9996501 , 0.99964994,\n",
       "        0.9996502 , 0.9996499 , 0.99965036, 0.99965   , 0.99965   ,\n",
       "        0.99965006, 0.9996502 , 0.9996503 , 0.9996502 , 0.9996503 ,\n",
       "        0.9996499 , 0.99965   , 0.9996504 , 0.9996499 , 0.9996497 ,\n",
       "        0.99965024, 0.9996499 , 0.9996501 , 0.99964994, 0.9996506 ,\n",
       "        0.99964976, 0.99964964, 0.9996499 , 0.99965054, 0.99965036,\n",
       "        0.99964976, 0.9996502 , 0.9996497 , 0.99964976, 0.99965   ,\n",
       "        0.9996498 , 0.99964994, 0.99965   , 0.9996499 , 0.99965   ,\n",
       "        0.9996501 , 0.99965006, 0.99965024, 0.9996504 , 0.99965066,\n",
       "        0.99964994, 0.9996503 , 0.9996502 , 0.99965   , 0.9996499 ,\n",
       "        0.99965036, 0.9996501 , 0.9996494 , 0.9996503 ]], dtype=float32)"
      ]
     },
     "execution_count": 15,
     "metadata": {},
     "output_type": "execute_result"
    }
   ],
   "source": [
    "pnet.encoder.predict(data.X_train[-2:,:])"
   ]
  },
  {
   "cell_type": "code",
   "execution_count": 16,
   "metadata": {},
   "outputs": [
    {
     "data": {
      "text/plain": [
       "array([[0.9996506 , 0.99965   , 0.99965024, 0.9996502 , 0.99965   ,\n",
       "        0.9996501 , 0.99965006, 0.99964994, 0.9996499 , 0.9996501 ,\n",
       "        0.9996502 , 0.99965006, 0.9996497 , 0.9996501 , 0.99964994,\n",
       "        0.9996502 , 0.9996499 , 0.99965036, 0.99965   , 0.99965   ,\n",
       "        0.99965006, 0.9996502 , 0.9996503 , 0.9996502 , 0.9996503 ,\n",
       "        0.9996499 , 0.99965   , 0.9996504 , 0.9996499 , 0.9996497 ,\n",
       "        0.99965024, 0.9996499 , 0.99965024, 0.9996502 , 0.99965024,\n",
       "        0.99964976, 0.9996501 , 0.99964976, 0.99965054, 0.99965036,\n",
       "        0.9996501 , 0.9996502 , 0.9996502 , 0.99965   , 0.9996499 ,\n",
       "        0.99965006, 0.9996502 , 0.99965024, 0.9996501 , 0.9996501 ,\n",
       "        0.9996501 , 0.99964994, 0.9996502 , 0.9996502 , 0.99965024,\n",
       "        0.99965006, 0.9996502 , 0.9996503 , 0.99965024, 0.9996502 ,\n",
       "        0.9996501 , 0.99965036, 0.9996499 , 0.99965054],\n",
       "       [0.9996506 , 0.99965   , 0.99965024, 0.9996502 , 0.99965   ,\n",
       "        0.9996501 , 0.99965006, 0.99964994, 0.9996499 , 0.9996501 ,\n",
       "        0.9996502 , 0.99965006, 0.9996497 , 0.9996501 , 0.99964994,\n",
       "        0.9996502 , 0.9996499 , 0.99965036, 0.99965   , 0.99965   ,\n",
       "        0.99965006, 0.9996502 , 0.9996503 , 0.9996502 , 0.9996503 ,\n",
       "        0.9996499 , 0.99965   , 0.9996504 , 0.9996499 , 0.9996497 ,\n",
       "        0.99965024, 0.9996499 , 0.99965   , 0.9996502 , 0.9996501 ,\n",
       "        0.9996499 , 0.9996505 , 0.99964964, 0.99965054, 0.9996501 ,\n",
       "        0.99965024, 0.99965006, 0.99965054, 0.99965024, 0.99964976,\n",
       "        0.9996503 , 0.9996502 , 0.99965024, 0.9996505 , 0.99965024,\n",
       "        0.99965024, 0.9996502 , 0.9996501 , 0.9996504 , 0.9996502 ,\n",
       "        0.99965006, 0.99964994, 0.9996504 , 0.9996501 , 0.99965024,\n",
       "        0.99965   , 0.99965084, 0.99965036, 0.9996502 ]], dtype=float32)"
      ]
     },
     "execution_count": 16,
     "metadata": {},
     "output_type": "execute_result"
    }
   ],
   "source": [
    "pnet.encoder.predict(data.X_train[:2,:])"
   ]
  },
  {
   "cell_type": "code",
   "execution_count": 17,
   "metadata": {},
   "outputs": [
    {
     "data": {
      "text/plain": [
       "<tf.Tensor: id=3100459, shape=(), dtype=float32, numpy=1800.0>"
      ]
     },
     "execution_count": 17,
     "metadata": {},
     "output_type": "execute_result"
    }
   ],
   "source": [
    "pnet.prototypes_layer._diversity_term()"
   ]
  },
  {
   "cell_type": "code",
   "execution_count": 18,
   "metadata": {},
   "outputs": [
    {
     "data": {
      "text/plain": [
       "[<tf.Tensor 'pro_se_net/sequential/bidirectional/forward_lstm0/ActivityRegularizer/truediv:0' shape=() dtype=float32>,\n",
       " <tf.Tensor 'pro_se_net/sequential/bidirectional/backward_lstm0/ActivityRegularizer/truediv:0' shape=() dtype=float32>,\n",
       " <tf.Tensor 'pro_se_net/sequential/bidirectional_1/forward_lstm1/ActivityRegularizer/truediv:0' shape=() dtype=float32>,\n",
       " <tf.Tensor 'pro_se_net/sequential/bidirectional_1/backward_lstm1/ActivityRegularizer/truediv:0' shape=() dtype=float32>,\n",
       " <tf.Tensor 'pro_se_net/sequential/bidirectional_2/forward_lstm2/ActivityRegularizer/truediv:0' shape=() dtype=float32>,\n",
       " <tf.Tensor 'pro_se_net/sequential/bidirectional_2/backward_lstm2/ActivityRegularizer/truediv:0' shape=() dtype=float32>,\n",
       " <tf.Tensor 'pro_se_net/prototypes/Const:0' shape=() dtype=float32>,\n",
       " <tf.Tensor 'pro_se_net/prototypes/Const_1:0' shape=() dtype=float32>,\n",
       " <tf.Tensor 'pro_se_net/prototypes/Const_2:0' shape=() dtype=float32>,\n",
       " <tf.Tensor: id=3100460, shape=(), dtype=float32, numpy=0.0>]"
      ]
     },
     "execution_count": 18,
     "metadata": {},
     "output_type": "execute_result"
    }
   ],
   "source": [
    "pnet.losses"
   ]
  },
  {
   "cell_type": "code",
   "execution_count": 19,
   "metadata": {},
   "outputs": [],
   "source": [
    "pnet.loss_weights"
   ]
  },
  {
   "cell_type": "code",
   "execution_count": null,
   "metadata": {},
   "outputs": [],
   "source": []
  }
 ],
 "metadata": {
  "kernelspec": {
   "display_name": "Python 3",
   "language": "python",
   "name": "python3"
  },
  "language_info": {
   "codemirror_mode": {
    "name": "ipython",
    "version": 3
   },
   "file_extension": ".py",
   "mimetype": "text/x-python",
   "name": "python",
   "nbconvert_exporter": "python",
   "pygments_lexer": "ipython3",
   "version": "3.7.3"
  }
 },
 "nbformat": 4,
 "nbformat_minor": 2
}
