{
 "cells": [
  {
   "cell_type": "code",
   "execution_count": 1,
   "metadata": {},
   "outputs": [],
   "source": [
    "import numpy as np\n",
    "import matplotlib.pyplot as plt\n",
    "\n",
    "import tensorflow as tf\n",
    "from tensorflow.keras import optimizers, regularizers, models, layers, callbacks\n",
    "from sklearn.utils import class_weight\n",
    "\n",
    "from prosenet import ProSeNet, PrototypeProjection, datasets, ops"
   ]
  },
  {
   "cell_type": "code",
   "execution_count": 2,
   "metadata": {},
   "outputs": [],
   "source": [
    "# Dataset parameters\n",
    "\n",
    "num_classes = 3\n",
    "sequence_length = 200\n",
    "num_features = 1"
   ]
  },
  {
   "cell_type": "code",
   "execution_count": 3,
   "metadata": {},
   "outputs": [
    {
     "name": "stdout",
     "output_type": "stream",
     "text": [
      "Model: \"pro_se_net\"\n",
      "_________________________________________________________________\n",
      "Layer (type)                 Output Shape              Param #   \n",
      "=================================================================\n",
      "sequential (Sequential)      (None, 16)                640       \n",
      "_________________________________________________________________\n",
      "prototypes (Prototypes)      multiple                  128       \n",
      "_________________________________________________________________\n",
      "classifier (Dense)           multiple                  24        \n",
      "=================================================================\n",
      "Total params: 792\n",
      "Trainable params: 792\n",
      "Non-trainable params: 0\n",
      "_________________________________________________________________\n"
     ]
    }
   ],
   "source": [
    "# Set any non-default args\n",
    "new_rnn_args = {\n",
    "    'layers' : [8],\n",
    "    'layer_args' : {\n",
    "        'dropout' : 0.1,\n",
    "        'activity_regularizer' : regularizers.l2(0.1)    # Note: not in paper\n",
    "    }\n",
    "}\n",
    "\n",
    "new_proto_args = {\n",
    "    'dmin' : 2.0,\n",
    "    'Ld' : 0.1, #0.1,\n",
    "    'Lc' : 0.01,\n",
    "    'Le' : 0.1\n",
    "}\n",
    "\n",
    "pnet = ProSeNet(input_shape=(sequence_length, num_features), \n",
    "                nclasses=num_classes, \n",
    "                k=8, \n",
    "                rnn_args=new_rnn_args,\n",
    "                prototypes_args=new_proto_args,\n",
    "                L1=0.1)\n",
    "\n",
    "pnet.build( (None, sequence_length, num_features) )\n",
    "\n",
    "pnet.summary()"
   ]
  },
  {
   "cell_type": "code",
   "execution_count": 4,
   "metadata": {},
   "outputs": [
    {
     "data": {
      "text/plain": [
       "((1200, 200, 1), (1200, 3), (300, 200, 1), (300, 3))"
      ]
     },
     "execution_count": 4,
     "metadata": {},
     "output_type": "execute_result"
    }
   ],
   "source": [
    "data = datasets.SyntheticSignalsDataset(examples_per_class=500)\n",
    "data.load_data()\n",
    "\n",
    "data.X_train.shape, data.y_train.shape, data.X_test.shape, data.y_test.shape"
   ]
  },
  {
   "cell_type": "code",
   "execution_count": 5,
   "metadata": {},
   "outputs": [
    {
     "data": {
      "text/plain": [
       "array([0.65416667, 0.66583333, 0.68      ])"
      ]
     },
     "execution_count": 5,
     "metadata": {},
     "output_type": "execute_result"
    }
   ],
   "source": [
    "train_gen = datasets.DataGenerator(data.X_train, data.y_train, batch_size=128)\n",
    "\n",
    "test_gen = datasets.DataGenerator(data.X_test, data.y_test, batch_size=128)\n",
    "\n",
    "class_weights = 1 - (np.bincount(np.argmax(data.y_train, 1)) / data.y_train.shape[0])\n",
    "\n",
    "# Setting class 0 to 0.001, need to just get it to stop overfitting that class\n",
    "#class_weights[0] = 0.0\n",
    "class_weights"
   ]
  },
  {
   "cell_type": "markdown",
   "metadata": {},
   "source": [
    "# First train just the `encoder`"
   ]
  },
  {
   "cell_type": "code",
   "execution_count": 6,
   "metadata": {},
   "outputs": [
    {
     "name": "stdout",
     "output_type": "stream",
     "text": [
      "Model: \"model\"\n",
      "_________________________________________________________________\n",
      "Layer (type)                 Output Shape              Param #   \n",
      "=================================================================\n",
      "input_1 (InputLayer)         [(None, 200, 1)]          0         \n",
      "_________________________________________________________________\n",
      "bidirectional (Bidirectional (None, 16)                640       \n",
      "_________________________________________________________________\n",
      "dense (Dense)                (None, 3)                 51        \n",
      "=================================================================\n",
      "Total params: 691\n",
      "Trainable params: 691\n",
      "Non-trainable params: 0\n",
      "_________________________________________________________________\n"
     ]
    }
   ],
   "source": [
    "x_encoded = pnet.encoder.output\n",
    "\n",
    "pred = layers.Dense(3, activation='softmax')(x_encoded)\n",
    "\n",
    "encoder_classifier = models.Model(inputs=pnet.encoder.input, outputs=pred)\n",
    "\n",
    "encoder_classifier.summary()"
   ]
  },
  {
   "cell_type": "code",
   "execution_count": 7,
   "metadata": {},
   "outputs": [
    {
     "name": "stdout",
     "output_type": "stream",
     "text": [
      "Epoch 1/25\n",
      "10/10 [==============================] - 2s 210ms/step - loss: 1.0697 - accuracy: 0.5683 - val_loss: 1.0516 - val_accuracy: 0.5433\n",
      "Epoch 2/25\n",
      "10/10 [==============================] - 1s 51ms/step - loss: 1.0327 - accuracy: 0.6492 - val_loss: 1.0252 - val_accuracy: 0.6167\n",
      "Epoch 3/25\n",
      "10/10 [==============================] - 1s 54ms/step - loss: 1.0068 - accuracy: 0.6950 - val_loss: 1.0037 - val_accuracy: 0.6367\n",
      "Epoch 4/25\n",
      "10/10 [==============================] - 1s 54ms/step - loss: 0.9827 - accuracy: 0.6950 - val_loss: 0.9808 - val_accuracy: 0.6433\n",
      "Epoch 5/25\n",
      "10/10 [==============================] - 0s 48ms/step - loss: 0.9560 - accuracy: 0.7233 - val_loss: 0.9552 - val_accuracy: 0.6567\n",
      "Epoch 6/25\n",
      "10/10 [==============================] - 0s 46ms/step - loss: 0.9289 - accuracy: 0.7283 - val_loss: 0.9295 - val_accuracy: 0.6867\n",
      "Epoch 7/25\n",
      "10/10 [==============================] - 0s 48ms/step - loss: 0.9013 - accuracy: 0.7492 - val_loss: 0.9014 - val_accuracy: 0.7233\n",
      "Epoch 8/25\n",
      "10/10 [==============================] - 0s 47ms/step - loss: 0.8695 - accuracy: 0.7967 - val_loss: 0.8728 - val_accuracy: 0.8500\n",
      "Epoch 9/25\n",
      "10/10 [==============================] - 1s 51ms/step - loss: 0.8320 - accuracy: 0.8883 - val_loss: 0.8380 - val_accuracy: 0.8900\n",
      "Epoch 10/25\n",
      "10/10 [==============================] - 1s 51ms/step - loss: 0.7958 - accuracy: 0.9308 - val_loss: 0.7970 - val_accuracy: 0.9167\n",
      "Epoch 11/25\n",
      "10/10 [==============================] - 1s 50ms/step - loss: 0.7452 - accuracy: 0.9700 - val_loss: 0.7419 - val_accuracy: 0.9867\n",
      "Epoch 12/25\n",
      "10/10 [==============================] - 0s 47ms/step - loss: 0.6855 - accuracy: 0.9867 - val_loss: 0.6732 - val_accuracy: 1.0000\n",
      "Epoch 13/25\n",
      "10/10 [==============================] - 0s 47ms/step - loss: 0.6187 - accuracy: 0.9933 - val_loss: 0.5988 - val_accuracy: 1.0000\n",
      "Epoch 14/25\n",
      "10/10 [==============================] - 0s 48ms/step - loss: 0.5624 - accuracy: 0.9967 - val_loss: 0.5547 - val_accuracy: 1.0000\n",
      "Epoch 15/25\n",
      "10/10 [==============================] - 0s 46ms/step - loss: 0.5214 - accuracy: 0.9992 - val_loss: 0.5168 - val_accuracy: 1.0000\n",
      "Epoch 16/25\n",
      "10/10 [==============================] - 0s 46ms/step - loss: 0.4934 - accuracy: 0.9967 - val_loss: 0.4863 - val_accuracy: 1.0000\n",
      "Epoch 17/25\n",
      "10/10 [==============================] - 0s 48ms/step - loss: 0.4646 - accuracy: 0.9958 - val_loss: 0.4581 - val_accuracy: 1.0000\n",
      "Epoch 18/25\n",
      "10/10 [==============================] - 0s 49ms/step - loss: 0.4568 - accuracy: 0.9825 - val_loss: 0.4458 - val_accuracy: 0.9900\n",
      "Epoch 19/25\n",
      "10/10 [==============================] - 0s 47ms/step - loss: 0.4254 - accuracy: 0.9925 - val_loss: 0.4152 - val_accuracy: 1.0000\n",
      "Epoch 20/25\n",
      "10/10 [==============================] - 0s 47ms/step - loss: 0.3997 - accuracy: 0.9992 - val_loss: 0.3939 - val_accuracy: 1.0000\n",
      "Epoch 21/25\n",
      "10/10 [==============================] - 0s 49ms/step - loss: 0.3900 - accuracy: 0.9925 - val_loss: 0.3744 - val_accuracy: 1.0000\n",
      "Epoch 22/25\n",
      "10/10 [==============================] - 1s 50ms/step - loss: 0.3747 - accuracy: 0.9867 - val_loss: 0.3563 - val_accuracy: 1.0000\n",
      "Epoch 23/25\n",
      "10/10 [==============================] - 1s 51ms/step - loss: 0.3515 - accuracy: 0.9992 - val_loss: 0.3425 - val_accuracy: 1.0000\n",
      "Epoch 24/25\n",
      "10/10 [==============================] - 0s 47ms/step - loss: 0.3366 - accuracy: 1.0000 - val_loss: 0.3262 - val_accuracy: 1.0000\n",
      "Epoch 25/25\n",
      "10/10 [==============================] - 1s 54ms/step - loss: 0.3252 - accuracy: 1.0000 - val_loss: 0.3138 - val_accuracy: 1.0000\n"
     ]
    },
    {
     "data": {
      "text/plain": [
       "<tensorflow.python.keras.callbacks.History at 0x7f03f4058898>"
      ]
     },
     "execution_count": 7,
     "metadata": {},
     "output_type": "execute_result"
    }
   ],
   "source": [
    "rms = optimizers.RMSprop()\n",
    "\n",
    "encoder_classifier.trainable = True\n",
    "\n",
    "encoder_classifier.compile(optimizer=rms, loss='categorical_crossentropy', metrics=['accuracy'])\n",
    "\n",
    "encoder_classifier.fit_generator(train_gen, \n",
    "                   validation_data=test_gen, \n",
    "                   epochs=25,\n",
    "                   shuffle=False)"
   ]
  },
  {
   "cell_type": "markdown",
   "metadata": {},
   "source": [
    "# Now freeze the `encoder`"
   ]
  },
  {
   "cell_type": "code",
   "execution_count": 8,
   "metadata": {},
   "outputs": [],
   "source": [
    "pnet.encoder.trainable = False"
   ]
  },
  {
   "cell_type": "code",
   "execution_count": 33,
   "metadata": {},
   "outputs": [],
   "source": [
    "# Define come `Callback`s\n",
    "\n",
    "init_lr = 0.01 # 1.0\n",
    "\n",
    "def lr_schedule(epoch):\n",
    "    if epoch <= 10:\n",
    "        return init_lr\n",
    "    else:\n",
    "        return init_lr * 0.85**(epoch - 10)\n",
    "    \n",
    "lr_schedule = callbacks.LearningRateScheduler(lr_schedule)\n",
    "\n",
    "early_stopping = callbacks.EarlyStopping(patience=3)\n",
    "\n",
    "projection = PrototypeProjection(train_gen, freq=4)"
   ]
  },
  {
   "cell_type": "code",
   "execution_count": 34,
   "metadata": {
    "scrolled": false
   },
   "outputs": [
    {
     "name": "stdout",
     "output_type": "stream",
     "text": [
      "Epoch 1/25\n",
      " 9/10 [==========================>...] - ETA: 0s - loss: 5.0977 - accuracy: 0.7543\n",
      "Computing prototype projection...\n",
      "... assigned new prototypes from projections.\n",
      "10/10 [==============================] - 1s 68ms/step - loss: 4.9164 - accuracy: 0.7492 - val_loss: 1.2579 - val_accuracy: 0.7433\n",
      "Epoch 2/25\n",
      "10/10 [==============================] - 1s 53ms/step - loss: 4.9889 - accuracy: 0.7500 - val_loss: 1.2579 - val_accuracy: 0.7333\n",
      "Epoch 3/25\n",
      "10/10 [==============================] - 1s 52ms/step - loss: 4.8808 - accuracy: 0.7675 - val_loss: 1.2575 - val_accuracy: 0.7667\n",
      "Epoch 4/25\n",
      "10/10 [==============================] - 1s 50ms/step - loss: 4.9462 - accuracy: 0.7850 - val_loss: 1.2575 - val_accuracy: 0.7700\n",
      "Epoch 5/25\n",
      " 8/10 [=======================>......] - ETA: 0s - loss: 5.1191 - accuracy: 0.7881\n",
      "Computing prototype projection...\n",
      "... assigned new prototypes from projections.\n",
      "10/10 [==============================] - 1s 73ms/step - loss: 4.9489 - accuracy: 0.7883 - val_loss: 1.2573 - val_accuracy: 0.7733\n",
      "Epoch 6/25\n",
      "10/10 [==============================] - 1s 52ms/step - loss: 5.0630 - accuracy: 0.7850 - val_loss: 1.2572 - val_accuracy: 0.7733\n",
      "Epoch 7/25\n",
      "10/10 [==============================] - 0s 49ms/step - loss: 4.9747 - accuracy: 0.7867 - val_loss: 1.2569 - val_accuracy: 0.7900\n",
      "Epoch 8/25\n",
      "10/10 [==============================] - 1s 54ms/step - loss: 4.9591 - accuracy: 0.8067 - val_loss: 1.2568 - val_accuracy: 0.7833\n",
      "Epoch 9/25\n",
      " 8/10 [=======================>......] - ETA: 0s - loss: 5.1178 - accuracy: 0.8125\n",
      "Computing prototype projection...\n",
      "... assigned new prototypes from projections.\n",
      "10/10 [==============================] - 1s 71ms/step - loss: 4.9307 - accuracy: 0.8150 - val_loss: 1.2566 - val_accuracy: 0.7867\n",
      "Epoch 10/25\n",
      "10/10 [==============================] - 0s 50ms/step - loss: 5.0084 - accuracy: 0.7933 - val_loss: 1.2565 - val_accuracy: 0.7933\n",
      "Epoch 11/25\n",
      "10/10 [==============================] - 1s 51ms/step - loss: 4.9483 - accuracy: 0.8158 - val_loss: 1.2564 - val_accuracy: 0.7933\n",
      "Epoch 12/25\n",
      "10/10 [==============================] - 0s 49ms/step - loss: 4.9575 - accuracy: 0.8150 - val_loss: 1.2562 - val_accuracy: 0.8033\n",
      "Epoch 13/25\n",
      " 8/10 [=======================>......] - ETA: 0s - loss: 5.0894 - accuracy: 0.8086\n",
      "Computing prototype projection...\n",
      "... assigned new prototypes from projections.\n",
      "10/10 [==============================] - 1s 77ms/step - loss: 4.9047 - accuracy: 0.8167 - val_loss: 1.2560 - val_accuracy: 0.8033\n",
      "Epoch 14/25\n",
      "10/10 [==============================] - 1s 58ms/step - loss: 4.9950 - accuracy: 0.8000 - val_loss: 1.2561 - val_accuracy: 0.8067\n",
      "Epoch 15/25\n",
      "10/10 [==============================] - 1s 55ms/step - loss: 5.0309 - accuracy: 0.8383 - val_loss: 1.2559 - val_accuracy: 0.8133\n",
      "Epoch 16/25\n",
      "10/10 [==============================] - 1s 57ms/step - loss: 4.9789 - accuracy: 0.8283 - val_loss: 1.2559 - val_accuracy: 0.8133\n",
      "Epoch 17/25\n",
      " 9/10 [==========================>...] - ETA: 0s - loss: 5.1346 - accuracy: 0.8359\n",
      "Computing prototype projection...\n",
      "... assigned new prototypes from projections.\n",
      "10/10 [==============================] - 1s 75ms/step - loss: 4.9554 - accuracy: 0.8333 - val_loss: 1.2558 - val_accuracy: 0.8167\n",
      "Epoch 18/25\n",
      "10/10 [==============================] - 1s 52ms/step - loss: 5.0433 - accuracy: 0.8233 - val_loss: 1.2560 - val_accuracy: 0.8067\n",
      "Epoch 19/25\n",
      "10/10 [==============================] - 0s 49ms/step - loss: 4.9561 - accuracy: 0.8217 - val_loss: 1.2559 - val_accuracy: 0.8167\n",
      "Epoch 20/25\n",
      "10/10 [==============================] - 1s 56ms/step - loss: 4.9280 - accuracy: 0.8208 - val_loss: 1.2558 - val_accuracy: 0.8167\n"
     ]
    },
    {
     "data": {
      "text/plain": [
       "<tensorflow.python.keras.callbacks.History at 0x7f034c2bd898>"
      ]
     },
     "execution_count": 34,
     "metadata": {},
     "output_type": "execute_result"
    }
   ],
   "source": [
    "sgd = optimizers.SGD(learning_rate=init_lr, clipnorm=5.0)\n",
    "\n",
    "pnet.compile(optimizer=sgd, loss='categorical_crossentropy', metrics=['accuracy'])\n",
    "\n",
    "pnet.fit_generator(train_gen, \n",
    "                   validation_data=test_gen, \n",
    "                   epochs=25,\n",
    "                   callbacks=[early_stopping, lr_schedule, projection],\n",
    "                   shuffle=False)"
   ]
  },
  {
   "cell_type": "markdown",
   "metadata": {},
   "source": [
    "# Diagnostics"
   ]
  },
  {
   "cell_type": "code",
   "execution_count": 35,
   "metadata": {},
   "outputs": [
    {
     "data": {
      "text/plain": [
       "array([[-0.24914569, -0.34737614, -0.24518126,  0.06854209, -0.24509007,\n",
       "         0.00762364,  0.17421354, -0.31089938, -0.05756561,  0.12854348,\n",
       "        -0.37448364, -0.33903867,  0.16461122,  0.2979516 ,  0.33566877,\n",
       "         0.3850568 ]], dtype=float32)"
      ]
     },
     "execution_count": 35,
     "metadata": {},
     "output_type": "execute_result"
    }
   ],
   "source": [
    "# Encoding layer(s) output\n",
    "pnet.encoder.predict(data.X_train[np.newaxis, 0], batch_size=1)"
   ]
  },
  {
   "cell_type": "code",
   "execution_count": 36,
   "metadata": {},
   "outputs": [
    {
     "name": "stdout",
     "output_type": "stream",
     "text": [
      "-0.6946183 0.68691134\n"
     ]
    },
    {
     "data": {
      "text/plain": [
       "<matplotlib.colorbar.Colorbar at 0x7f034c299c88>"
      ]
     },
     "execution_count": 36,
     "metadata": {},
     "output_type": "execute_result"
    },
    {
     "data": {
      "image/png": "[encoded data removed]",
      "text/plain": [
       "<Figure size 720x720 with 2 Axes>"
      ]
     },
     "metadata": {
      "needs_background": "light"
     },
     "output_type": "display_data"
    }
   ],
   "source": [
    "# Prototype layer weights\n",
    "protos = np.squeeze(pnet.prototypes_layer.weights[0].numpy())\n",
    "print(protos.min(), protos.max())\n",
    "\n",
    "fig, ax = plt.subplots(figsize=(10,10))\n",
    "cax = ax.matshow(protos, cmap=plt.cm.RdBu)\n",
    "fig.colorbar(cax, ax=ax)"
   ]
  },
  {
   "cell_type": "code",
   "execution_count": 37,
   "metadata": {},
   "outputs": [
    {
     "name": "stdout",
     "output_type": "stream",
     "text": [
      "0.0 0.43311659\n"
     ]
    },
    {
     "data": {
      "text/plain": [
       "<matplotlib.colorbar.Colorbar at 0x7f034c1cab38>"
      ]
     },
     "execution_count": 37,
     "metadata": {},
     "output_type": "execute_result"
    },
    {
     "data": {
      "image/png": "[encoded data removed]",
      "text/plain": [
       "<Figure size 720x720 with 2 Axes>"
      ]
     },
     "metadata": {
      "needs_background": "light"
     },
     "output_type": "display_data"
    }
   ],
   "source": [
    "pred_weights = np.squeeze(pnet.classifier.weights[0].numpy())\n",
    "print(pred_weights.min(), pred_weights.max())\n",
    "\n",
    "fig, ax = plt.subplots(figsize=(10,10))\n",
    "cax = ax.matshow(pred_weights, cmap=plt.cm.RdBu)\n",
    "fig.colorbar(cax)"
   ]
  },
  {
   "cell_type": "code",
   "execution_count": 38,
   "metadata": {},
   "outputs": [
    {
     "data": {
      "text/plain": [
       "array([[0.340934  , 0.31557238, 0.3434936 ],\n",
       "       [0.33367836, 0.34120822, 0.32511348],\n",
       "       [0.43659985, 0.2799623 , 0.28343776]], dtype=float32)"
      ]
     },
     "execution_count": 38,
     "metadata": {},
     "output_type": "execute_result"
    }
   ],
   "source": [
    "pnet.predict(data.X_train[:3,:], batch_size=1)"
   ]
  },
  {
   "cell_type": "code",
   "execution_count": 39,
   "metadata": {},
   "outputs": [
    {
     "data": {
      "text/plain": [
       "array([[0., 0., 1.],\n",
       "       [0., 1., 0.],\n",
       "       [1., 0., 0.]], dtype=float32)"
      ]
     },
     "execution_count": 39,
     "metadata": {},
     "output_type": "execute_result"
    }
   ],
   "source": [
    "data.y_train[:3]"
   ]
  },
  {
   "cell_type": "code",
   "execution_count": 16,
   "metadata": {},
   "outputs": [
    {
     "data": {
      "text/plain": [
       "array([[0.3664832 , 0.29701304, 0.33650377],\n",
       "       [0.36368415, 0.2655087 , 0.37080714],\n",
       "       [0.38782075, 0.27842987, 0.33374938]], dtype=float32)"
      ]
     },
     "execution_count": 16,
     "metadata": {},
     "output_type": "execute_result"
    }
   ],
   "source": [
    "pnet.predict(data.X_test[-3:,:], batch_size=1)"
   ]
  },
  {
   "cell_type": "code",
   "execution_count": 17,
   "metadata": {},
   "outputs": [
    {
     "data": {
      "text/plain": [
       "array([[0., 0., 1.],\n",
       "       [0., 1., 0.],\n",
       "       [0., 0., 1.]], dtype=float32)"
      ]
     },
     "execution_count": 17,
     "metadata": {},
     "output_type": "execute_result"
    }
   ],
   "source": [
    "data.y_test[-3:]"
   ]
  },
  {
   "cell_type": "code",
   "execution_count": 18,
   "metadata": {},
   "outputs": [
    {
     "data": {
      "text/plain": [
       "[<matplotlib.lines.Line2D at 0x7f034c7cff28>]"
      ]
     },
     "execution_count": 18,
     "metadata": {},
     "output_type": "execute_result"
    },
    {
     "data": {
      "image/png": "[encoded data removed]",
      "text/plain": [
       "<Figure size 432x288 with 1 Axes>"
      ]
     },
     "metadata": {
      "needs_background": "light"
     },
     "output_type": "display_data"
    }
   ],
   "source": [
    "plt.plot(np.arange(200), data.X_train[-2])"
   ]
  },
  {
   "cell_type": "code",
   "execution_count": 40,
   "metadata": {},
   "outputs": [
    {
     "data": {
      "text/plain": [
       "<tf.Variable 'classifier/kernel:0' shape=(8, 3) dtype=float32, numpy=\n",
       "array([[0.00000000e+00, 5.33084050e-02, 0.00000000e+00],\n",
       "       [4.33116585e-01, 0.00000000e+00, 0.00000000e+00],\n",
       "       [0.00000000e+00, 1.04193896e-04, 0.00000000e+00],\n",
       "       [1.14162803e-01, 0.00000000e+00, 0.00000000e+00],\n",
       "       [0.00000000e+00, 0.00000000e+00, 1.93002605e-04],\n",
       "       [0.00000000e+00, 0.00000000e+00, 1.24765858e-01],\n",
       "       [0.00000000e+00, 9.51026753e-02, 0.00000000e+00],\n",
       "       [0.00000000e+00, 8.85083791e-05, 0.00000000e+00]], dtype=float32)>"
      ]
     },
     "execution_count": 40,
     "metadata": {},
     "output_type": "execute_result"
    }
   ],
   "source": [
    "pnet.classifier.weights[0]"
   ]
  },
  {
   "cell_type": "code",
   "execution_count": 20,
   "metadata": {},
   "outputs": [
    {
     "data": {
      "text/plain": [
       "[<tf.Variable 'dense/kernel:0' shape=(16, 3) dtype=float32, numpy=\n",
       " array([[-0.5213511 , -0.05899869, -0.249026  ],\n",
       "        [-0.33939865,  0.70954776, -0.3884023 ],\n",
       "        [-0.6738875 , -0.03435083, -0.4629696 ],\n",
       "        [-0.25881425, -0.28660363,  0.0663461 ],\n",
       "        [-0.5577714 ,  0.65599936, -0.5657713 ],\n",
       "        [ 0.33426517,  0.57936794, -0.51241493],\n",
       "        [ 0.7576804 , -0.45098963, -0.17132345],\n",
       "        [-0.46536216,  0.6107482 , -0.21731524],\n",
       "        [ 0.23351939, -0.31686026,  0.04567785],\n",
       "        [ 0.31412268, -0.14741938,  0.7284041 ],\n",
       "        [ 0.58505046, -0.7802096 , -0.79667944],\n",
       "        [ 0.30450213, -0.42327034, -0.46204495],\n",
       "        [-0.21081522,  0.10678521,  0.5650489 ],\n",
       "        [-0.60199594, -0.3655303 ,  0.826468  ],\n",
       "        [-0.6344607 , -0.3321292 ,  0.6599879 ],\n",
       "        [-0.66695017,  0.40730286,  0.06610867]], dtype=float32)>,\n",
       " <tf.Variable 'dense/bias:0' shape=(3,) dtype=float32, numpy=array([ 0.01764691,  0.00150107, -0.02701428], dtype=float32)>]"
      ]
     },
     "execution_count": 20,
     "metadata": {},
     "output_type": "execute_result"
    }
   ],
   "source": [
    "encoder_classifier.layers[-1].weights"
   ]
  },
  {
   "cell_type": "code",
   "execution_count": 21,
   "metadata": {},
   "outputs": [
    {
     "data": {
      "text/plain": [
       "<tf.Tensor: id=271661, shape=(), dtype=float32, numpy=10.618939>"
      ]
     },
     "execution_count": 21,
     "metadata": {},
     "output_type": "execute_result"
    }
   ],
   "source": [
    "pnet.prototypes_layer._diversity_term()"
   ]
  },
  {
   "cell_type": "code",
   "execution_count": 22,
   "metadata": {},
   "outputs": [
    {
     "data": {
      "text/plain": [
       "array([[-0.24914569, -0.34737614, -0.24518126,  0.06854209, -0.24509007,\n",
       "         0.00762364,  0.17421354, -0.31089938, -0.05756561,  0.12854348,\n",
       "        -0.37448364, -0.33903867,  0.16461122,  0.2979516 ,  0.33566877,\n",
       "         0.3850568 ]], dtype=float32)"
      ]
     },
     "execution_count": 22,
     "metadata": {},
     "output_type": "execute_result"
    }
   ],
   "source": [
    "pnet.encoder.predict(data.X_train[np.newaxis, 0], batch_size=1)"
   ]
  },
  {
   "cell_type": "code",
   "execution_count": 23,
   "metadata": {},
   "outputs": [
    {
     "name": "stdout",
     "output_type": "stream",
     "text": [
      "WARNING:tensorflow:Layer bidirectional is casting an input tensor from dtype float64 to the layer's dtype of float32, which is new behavior in TensorFlow 2.  The layer has dtype float32 because it's dtype defaults to floatx.\n",
      "\n",
      "If you intended to run this layer in float32, you can safely ignore this warning. If in doubt, this warning is likely only an issue if you are porting a TensorFlow 1.X model to TensorFlow 2.\n",
      "\n",
      "To change all layers to have dtype float64 by default, call `tf.keras.backend.set_floatx('float64')`. To change just this layer, pass dtype='float64' to the layer constructor. If you are the author of this layer, you can disable autocasting by passing autocast=False to the base Layer constructor.\n",
      "\n"
     ]
    }
   ],
   "source": [
    "similarities = pnet.similarity_vector(data.X_train[1:3]).numpy()"
   ]
  },
  {
   "cell_type": "code",
   "execution_count": 24,
   "metadata": {},
   "outputs": [
    {
     "data": {
      "text/plain": [
       "array([[0., 1., 0.],\n",
       "       [1., 0., 0.]], dtype=float32)"
      ]
     },
     "execution_count": 24,
     "metadata": {},
     "output_type": "execute_result"
    }
   ],
   "source": [
    "data.y_train[1:3]"
   ]
  },
  {
   "cell_type": "code",
   "execution_count": 25,
   "metadata": {},
   "outputs": [
    {
     "data": {
      "text/plain": [
       "array([[0.4529837 , 0.08046876, 0.8724249 , 0.08961628, 0.11949158,\n",
       "        0.1541241 , 0.5187751 , 0.61605746],\n",
       "       [0.08793184, 0.8813068 , 0.08269343, 0.6346254 , 0.17530733,\n",
       "        0.1841182 , 0.08412625, 0.10743003]], dtype=float32)"
      ]
     },
     "execution_count": 25,
     "metadata": {},
     "output_type": "execute_result"
    }
   ],
   "source": [
    "similarities"
   ]
  },
  {
   "cell_type": "code",
   "execution_count": 26,
   "metadata": {},
   "outputs": [
    {
     "data": {
      "text/plain": [
       "array([0, 2, 1, 1, 2, 0, 2, 0])"
      ]
     },
     "execution_count": 26,
     "metadata": {},
     "output_type": "execute_result"
    }
   ],
   "source": [
    "np.argmax(pnet.classifier.weights[0].numpy(), -1)"
   ]
  },
  {
   "cell_type": "code",
   "execution_count": null,
   "metadata": {},
   "outputs": [],
   "source": []
  }
 ],
 "metadata": {
  "kernelspec": {
   "display_name": "Python 3",
   "language": "python",
   "name": "python3"
  },
  "language_info": {
   "codemirror_mode": {
    "name": "ipython",
    "version": 3
   },
   "file_extension": ".py",
   "mimetype": "text/x-python",
   "name": "python",
   "nbconvert_exporter": "python",
   "pygments_lexer": "ipython3",
   "version": "3.7.3"
  }
 },
 "nbformat": 4,
 "nbformat_minor": 2
}
