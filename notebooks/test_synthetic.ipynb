{
 "cells": [
  {
   "cell_type": "code",
   "execution_count": 1,
   "metadata": {},
   "outputs": [],
   "source": [
    "import numpy as np\n",
    "import matplotlib.pyplot as plt\n",
    "\n",
    "import tensorflow as tf\n",
    "from tensorflow.keras import optimizers, regularizers, models, layers, callbacks\n",
    "from sklearn.utils import class_weight\n",
    "\n",
    "from prosenet import ProSeNet, PrototypeProjection, datasets, ops"
   ]
  },
  {
   "cell_type": "code",
   "execution_count": 2,
   "metadata": {},
   "outputs": [],
   "source": [
    "# Dataset parameters\n",
    "\n",
    "num_classes = 3\n",
    "sequence_length = 200\n",
    "num_features = 1"
   ]
  },
  {
   "cell_type": "code",
   "execution_count": 3,
   "metadata": {},
   "outputs": [
    {
     "name": "stdout",
     "output_type": "stream",
     "text": [
      "Model: \"pro_se_net\"\n",
      "_________________________________________________________________\n",
      "Layer (type)                 Output Shape              Param #   \n",
      "=================================================================\n",
      "sequential (Sequential)      (None, 16)                640       \n",
      "_________________________________________________________________\n",
      "prototypes (Prototypes)      multiple                  192       \n",
      "_________________________________________________________________\n",
      "classifier (Dense)           multiple                  36        \n",
      "=================================================================\n",
      "Total params: 868\n",
      "Trainable params: 868\n",
      "Non-trainable params: 0\n",
      "_________________________________________________________________\n"
     ]
    }
   ],
   "source": [
    "# Set any non-default args\n",
    "new_rnn_args = {\n",
    "    'layers' : [8],\n",
    "    'layer_args' : {\n",
    "        'dropout' : 0.1,\n",
    "        'activity_regularizer' : regularizers.l2(0.1)    # Note: not in paper\n",
    "    }\n",
    "}\n",
    "\n",
    "new_proto_args = {\n",
    "    'dmin' : 2.0,\n",
    "    'Ld' : 0.1, #0.1,\n",
    "    'Lc' : 0.01,\n",
    "    'Le' : 0.1\n",
    "}\n",
    "\n",
    "pnet = ProSeNet(input_shape=(sequence_length, num_features), \n",
    "                nclasses=num_classes, \n",
    "                k=12, \n",
    "                rnn_args=new_rnn_args,\n",
    "                prototypes_args=new_proto_args,\n",
    "                L1=0.1)\n",
    "\n",
    "pnet.build( (None, sequence_length, num_features) )\n",
    "\n",
    "pnet.summary()"
   ]
  },
  {
   "cell_type": "code",
   "execution_count": 4,
   "metadata": {},
   "outputs": [
    {
     "data": {
      "text/plain": [
       "((1200, 200, 1), (1200, 3), (300, 200, 1), (300, 3))"
      ]
     },
     "execution_count": 4,
     "metadata": {},
     "output_type": "execute_result"
    }
   ],
   "source": [
    "data = datasets.SyntheticSignalsDataset(examples_per_class=500)\n",
    "data.load_data()\n",
    "\n",
    "data.X_train.shape, data.y_train.shape, data.X_test.shape, data.y_test.shape"
   ]
  },
  {
   "cell_type": "code",
   "execution_count": 5,
   "metadata": {},
   "outputs": [
    {
     "data": {
      "text/plain": [
       "array([0.675     , 0.66083333, 0.66416667])"
      ]
     },
     "execution_count": 5,
     "metadata": {},
     "output_type": "execute_result"
    }
   ],
   "source": [
    "train_gen = datasets.DataGenerator(data.X_train, data.y_train, batch_size=128)\n",
    "\n",
    "test_gen = datasets.DataGenerator(data.X_test, data.y_test, batch_size=128)\n",
    "\n",
    "class_weights = 1 - (np.bincount(np.argmax(data.y_train, 1)) / data.y_train.shape[0])\n",
    "\n",
    "# Setting class 0 to 0.001, need to just get it to stop overfitting that class\n",
    "#class_weights[0] = 0.0\n",
    "class_weights"
   ]
  },
  {
   "cell_type": "markdown",
   "metadata": {},
   "source": [
    "# First train just the `encoder`"
   ]
  },
  {
   "cell_type": "code",
   "execution_count": 6,
   "metadata": {},
   "outputs": [
    {
     "name": "stdout",
     "output_type": "stream",
     "text": [
      "Model: \"model\"\n",
      "_________________________________________________________________\n",
      "Layer (type)                 Output Shape              Param #   \n",
      "=================================================================\n",
      "input_1 (InputLayer)         [(None, 200, 1)]          0         \n",
      "_________________________________________________________________\n",
      "bidirectional (Bidirectional (None, 16)                640       \n",
      "_________________________________________________________________\n",
      "dense (Dense)                (None, 3)                 51        \n",
      "=================================================================\n",
      "Total params: 691\n",
      "Trainable params: 691\n",
      "Non-trainable params: 0\n",
      "_________________________________________________________________\n"
     ]
    }
   ],
   "source": [
    "x_encoded = pnet.encoder.output\n",
    "\n",
    "pred = layers.Dense(3, activation='softmax')(x_encoded)\n",
    "\n",
    "encoder_classifier = models.Model(inputs=pnet.encoder.input, outputs=pred)\n",
    "\n",
    "encoder_classifier.summary()"
   ]
  },
  {
   "cell_type": "code",
   "execution_count": 7,
   "metadata": {},
   "outputs": [
    {
     "name": "stdout",
     "output_type": "stream",
     "text": [
      "Epoch 1/25\n",
      "10/10 [==============================] - 2s 215ms/step - loss: 1.1597 - accuracy: 0.2217 - val_loss: 1.1303 - val_accuracy: 0.3433\n",
      "Epoch 2/25\n",
      "10/10 [==============================] - 1s 53ms/step - loss: 1.1152 - accuracy: 0.4225 - val_loss: 1.0943 - val_accuracy: 0.5767\n",
      "Epoch 3/25\n",
      "10/10 [==============================] - 0s 48ms/step - loss: 1.0802 - accuracy: 0.6075 - val_loss: 1.0602 - val_accuracy: 0.7300\n",
      "Epoch 4/25\n",
      "10/10 [==============================] - 1s 53ms/step - loss: 1.0460 - accuracy: 0.7400 - val_loss: 1.0246 - val_accuracy: 0.7633\n",
      "Epoch 5/25\n",
      "10/10 [==============================] - 0s 48ms/step - loss: 1.0127 - accuracy: 0.7650 - val_loss: 0.9856 - val_accuracy: 0.7867\n",
      "Epoch 6/25\n",
      "10/10 [==============================] - 0s 49ms/step - loss: 0.9729 - accuracy: 0.7892 - val_loss: 0.9415 - val_accuracy: 0.8333\n",
      "Epoch 7/25\n",
      "10/10 [==============================] - 0s 49ms/step - loss: 0.9261 - accuracy: 0.8150 - val_loss: 0.8881 - val_accuracy: 0.8633\n",
      "Epoch 8/25\n",
      "10/10 [==============================] - 0s 48ms/step - loss: 0.8659 - accuracy: 0.8475 - val_loss: 0.8207 - val_accuracy: 0.8767\n",
      "Epoch 9/25\n",
      "10/10 [==============================] - 0s 49ms/step - loss: 0.7986 - accuracy: 0.8717 - val_loss: 0.7515 - val_accuracy: 0.9067\n",
      "Epoch 10/25\n",
      "10/10 [==============================] - 0s 46ms/step - loss: 0.7347 - accuracy: 0.8967 - val_loss: 0.6986 - val_accuracy: 0.8967\n",
      "Epoch 11/25\n",
      "10/10 [==============================] - 0s 49ms/step - loss: 0.6793 - accuracy: 0.9333 - val_loss: 0.6476 - val_accuracy: 0.9800\n",
      "Epoch 12/25\n",
      "10/10 [==============================] - 0s 50ms/step - loss: 0.6298 - accuracy: 0.9783 - val_loss: 0.6062 - val_accuracy: 1.0000\n",
      "Epoch 13/25\n",
      "10/10 [==============================] - 0s 49ms/step - loss: 0.5986 - accuracy: 0.9925 - val_loss: 0.5732 - val_accuracy: 1.0000\n",
      "Epoch 14/25\n",
      "10/10 [==============================] - 1s 50ms/step - loss: 0.5620 - accuracy: 0.9958 - val_loss: 0.5606 - val_accuracy: 0.9967\n",
      "Epoch 15/25\n",
      "10/10 [==============================] - 1s 54ms/step - loss: 0.5377 - accuracy: 0.9950 - val_loss: 0.5143 - val_accuracy: 1.0000\n",
      "Epoch 16/25\n",
      "10/10 [==============================] - 0s 49ms/step - loss: 0.5160 - accuracy: 0.9892 - val_loss: 0.4847 - val_accuracy: 1.0000\n",
      "Epoch 17/25\n",
      "10/10 [==============================] - 1s 50ms/step - loss: 0.4838 - accuracy: 0.9942 - val_loss: 0.4668 - val_accuracy: 1.0000\n",
      "Epoch 18/25\n",
      "10/10 [==============================] - 0s 48ms/step - loss: 0.4636 - accuracy: 0.9950 - val_loss: 0.4372 - val_accuracy: 1.0000\n",
      "Epoch 19/25\n",
      "10/10 [==============================] - 0s 47ms/step - loss: 0.4373 - accuracy: 0.9958 - val_loss: 0.4313 - val_accuracy: 1.0000\n",
      "Epoch 20/25\n",
      "10/10 [==============================] - 0s 50ms/step - loss: 0.4216 - accuracy: 0.9975 - val_loss: 0.4083 - val_accuracy: 1.0000\n",
      "Epoch 21/25\n",
      "10/10 [==============================] - 1s 50ms/step - loss: 0.4033 - accuracy: 0.9983 - val_loss: 0.3876 - val_accuracy: 1.0000\n",
      "Epoch 22/25\n",
      "10/10 [==============================] - 1s 51ms/step - loss: 0.3870 - accuracy: 0.9992 - val_loss: 0.3707 - val_accuracy: 1.0000\n",
      "Epoch 23/25\n",
      "10/10 [==============================] - 0s 49ms/step - loss: 0.3706 - accuracy: 1.0000 - val_loss: 0.3575 - val_accuracy: 1.0000\n",
      "Epoch 24/25\n",
      "10/10 [==============================] - 1s 56ms/step - loss: 0.3554 - accuracy: 1.0000 - val_loss: 0.3452 - val_accuracy: 1.0000\n",
      "Epoch 25/25\n",
      "10/10 [==============================] - 0s 47ms/step - loss: 0.3408 - accuracy: 1.0000 - val_loss: 0.3344 - val_accuracy: 1.0000\n"
     ]
    },
    {
     "data": {
      "text/plain": [
       "<tensorflow.python.keras.callbacks.History at 0x7f35ac2ce0b8>"
      ]
     },
     "execution_count": 7,
     "metadata": {},
     "output_type": "execute_result"
    }
   ],
   "source": [
    "rms = optimizers.RMSprop()\n",
    "\n",
    "encoder_classifier.trainable = True\n",
    "\n",
    "encoder_classifier.compile(optimizer=rms, loss='categorical_crossentropy', metrics=['accuracy'])\n",
    "\n",
    "encoder_classifier.fit_generator(train_gen, \n",
    "                   validation_data=test_gen, \n",
    "                   epochs=25,\n",
    "                   shuffle=False)"
   ]
  },
  {
   "cell_type": "markdown",
   "metadata": {},
   "source": [
    "# Now freeze the `encoder`"
   ]
  },
  {
   "cell_type": "code",
   "execution_count": 8,
   "metadata": {},
   "outputs": [],
   "source": [
    "pnet.encoder.trainable = False"
   ]
  },
  {
   "cell_type": "code",
   "execution_count": 9,
   "metadata": {},
   "outputs": [],
   "source": [
    "# Define come `Callback`s\n",
    "\n",
    "init_lr = 0.01 # 1.0\n",
    "\n",
    "def lr_schedule(epoch):\n",
    "    if epoch <= 10:\n",
    "        return init_lr\n",
    "    else:\n",
    "        return init_lr * 0.85**(epoch - 10)\n",
    "    \n",
    "lr_schedule = callbacks.LearningRateScheduler(lr_schedule)\n",
    "\n",
    "early_stopping = callbacks.EarlyStopping(patience=3)\n",
    "\n",
    "projection = PrototypeProjection(train_gen, freq=4)"
   ]
  },
  {
   "cell_type": "code",
   "execution_count": 23,
   "metadata": {
    "scrolled": false
   },
   "outputs": [
    {
     "name": "stdout",
     "output_type": "stream",
     "text": [
      "Epoch 1/15\n",
      " 9/10 [==========================>...] - ETA: 0s - loss: 6.2341 - accuracy: 0.6771\n",
      "Computing prototype projection...\n",
      "... assigned new prototypes from projections.\n",
      "10/10 [==============================] - 1s 67ms/step - loss: 6.0861 - accuracy: 0.6750 - val_loss: 1.3491 - val_accuracy: 0.6333\n",
      "Epoch 2/15\n",
      "10/10 [==============================] - 1s 51ms/step - loss: 6.2482 - accuracy: 0.6742 - val_loss: 1.3358 - val_accuracy: 0.6333\n",
      "Epoch 3/15\n",
      "10/10 [==============================] - 1s 55ms/step - loss: 6.0423 - accuracy: 0.6750 - val_loss: 1.3250 - val_accuracy: 0.6333\n",
      "Epoch 4/15\n",
      "10/10 [==============================] - 1s 54ms/step - loss: 5.9573 - accuracy: 0.6750 - val_loss: 1.3142 - val_accuracy: 0.6333\n",
      "Epoch 5/15\n",
      " 9/10 [==========================>...] - ETA: 0s - loss: 6.0380 - accuracy: 0.6745\n",
      "Computing prototype projection...\n",
      "... assigned new prototypes from projections.\n",
      "10/10 [==============================] - 1s 71ms/step - loss: 5.9047 - accuracy: 0.6733 - val_loss: 1.3053 - val_accuracy: 0.6333\n",
      "Epoch 6/15\n",
      "10/10 [==============================] - 1s 55ms/step - loss: 6.1841 - accuracy: 0.6742 - val_loss: 1.2959 - val_accuracy: 0.6333\n",
      "Epoch 7/15\n",
      "10/10 [==============================] - 1s 51ms/step - loss: 6.0323 - accuracy: 0.6792 - val_loss: 1.2901 - val_accuracy: 0.6500\n",
      "Epoch 8/15\n",
      "10/10 [==============================] - 0s 48ms/step - loss: 5.9451 - accuracy: 0.7025 - val_loss: 1.2839 - val_accuracy: 0.7667\n",
      "Epoch 9/15\n",
      " 9/10 [==========================>...] - ETA: 0s - loss: 6.0717 - accuracy: 0.8116\n",
      "Computing prototype projection...\n",
      "... assigned new prototypes from projections.\n",
      "10/10 [==============================] - 1s 69ms/step - loss: 5.9163 - accuracy: 0.8117 - val_loss: 1.2806 - val_accuracy: 0.8433\n",
      "Epoch 10/15\n",
      "10/10 [==============================] - 1s 54ms/step - loss: 6.1494 - accuracy: 0.8625 - val_loss: 1.2749 - val_accuracy: 0.8833\n",
      "Epoch 11/15\n",
      "10/10 [==============================] - 0s 48ms/step - loss: 5.9690 - accuracy: 0.8842 - val_loss: 1.2730 - val_accuracy: 0.9267\n",
      "Epoch 12/15\n",
      "10/10 [==============================] - 1s 56ms/step - loss: 5.9198 - accuracy: 0.9092 - val_loss: 1.2711 - val_accuracy: 0.9300\n",
      "Epoch 13/15\n",
      " 9/10 [==========================>...] - ETA: 0s - loss: 6.0926 - accuracy: 0.9115\n",
      "Computing prototype projection...\n",
      "... assigned new prototypes from projections.\n",
      "10/10 [==============================] - 1s 72ms/step - loss: 5.9391 - accuracy: 0.9117 - val_loss: 1.2692 - val_accuracy: 0.9400\n",
      "Epoch 14/15\n",
      "10/10 [==============================] - 1s 54ms/step - loss: 6.1718 - accuracy: 0.9392 - val_loss: 1.2643 - val_accuracy: 0.9433\n",
      "Epoch 15/15\n",
      "10/10 [==============================] - 1s 52ms/step - loss: 5.9670 - accuracy: 0.9383 - val_loss: 1.2633 - val_accuracy: 0.9567\n"
     ]
    },
    {
     "data": {
      "text/plain": [
       "<tensorflow.python.keras.callbacks.History at 0x7f3548478f98>"
      ]
     },
     "execution_count": 23,
     "metadata": {},
     "output_type": "execute_result"
    }
   ],
   "source": [
    "sgd = optimizers.SGD(learning_rate=init_lr, clipnorm=5.0)\n",
    "\n",
    "pnet.compile(optimizer=sgd, loss='categorical_crossentropy', metrics=['accuracy'])\n",
    "\n",
    "pnet.fit_generator(train_gen, \n",
    "                   validation_data=test_gen, \n",
    "                   epochs=15,\n",
    "                   callbacks=[early_stopping, lr_schedule, projection],\n",
    "                   shuffle=False)"
   ]
  },
  {
   "cell_type": "markdown",
   "metadata": {},
   "source": [
    "# Diagnostics"
   ]
  },
  {
   "cell_type": "code",
   "execution_count": 24,
   "metadata": {},
   "outputs": [
    {
     "data": {
      "text/plain": [
       "array([[ 0.30777535,  0.18210857, -0.1733888 , -0.25231943, -0.2078278 ,\n",
       "        -0.2570162 , -0.20708437, -0.2552549 ,  0.26357135,  0.38411033,\n",
       "         0.26860392, -0.34871837,  0.58411616, -0.39913175,  0.42202175,\n",
       "         0.28159726]], dtype=float32)"
      ]
     },
     "execution_count": 24,
     "metadata": {},
     "output_type": "execute_result"
    }
   ],
   "source": [
    "# Encoding layer(s) output\n",
    "pnet.encoder.predict(data.X_train[np.newaxis, 0], batch_size=1)"
   ]
  },
  {
   "cell_type": "code",
   "execution_count": 25,
   "metadata": {},
   "outputs": [
    {
     "name": "stdout",
     "output_type": "stream",
     "text": [
      "-0.6155657 1.0\n"
     ]
    },
    {
     "data": {
      "text/plain": [
       "<matplotlib.colorbar.Colorbar at 0x7f3540560898>"
      ]
     },
     "execution_count": 25,
     "metadata": {},
     "output_type": "execute_result"
    },
    {
     "data": {
      "image/png": "[encoded data removed]",
      "text/plain": [
       "<Figure size 720x720 with 2 Axes>"
      ]
     },
     "metadata": {
      "needs_background": "light"
     },
     "output_type": "display_data"
    }
   ],
   "source": [
    "# Prototype layer weights\n",
    "protos = np.squeeze(pnet.prototypes_layer.weights[0].numpy())\n",
    "print(protos.min(), protos.max())\n",
    "\n",
    "fig, ax = plt.subplots(figsize=(10,10))\n",
    "cax = ax.matshow(protos, cmap=plt.cm.RdBu)\n",
    "fig.colorbar(cax, ax=ax)"
   ]
  },
  {
   "cell_type": "code",
   "execution_count": 26,
   "metadata": {},
   "outputs": [
    {
     "name": "stdout",
     "output_type": "stream",
     "text": [
      "0.0 0.6225273\n"
     ]
    },
    {
     "data": {
      "text/plain": [
       "<matplotlib.colorbar.Colorbar at 0x7f35401bc6d8>"
      ]
     },
     "execution_count": 26,
     "metadata": {},
     "output_type": "execute_result"
    },
    {
     "data": {
      "image/png": "[encoded data removed]",
      "text/plain": [
       "<Figure size 720x720 with 2 Axes>"
      ]
     },
     "metadata": {
      "needs_background": "light"
     },
     "output_type": "display_data"
    }
   ],
   "source": [
    "pred_weights = np.squeeze(pnet.classifier.weights[0].numpy())\n",
    "print(pred_weights.min(), pred_weights.max())\n",
    "\n",
    "fig, ax = plt.subplots(figsize=(10,10))\n",
    "cax = ax.matshow(pred_weights, cmap=plt.cm.RdBu)\n",
    "fig.colorbar(cax)"
   ]
  },
  {
   "cell_type": "code",
   "execution_count": 14,
   "metadata": {},
   "outputs": [
    {
     "data": {
      "text/plain": [
       "array([[0.25979257, 0.25043958, 0.48976782],\n",
       "       [0.26047394, 0.2519256 , 0.4876005 ],\n",
       "       [0.32998195, 0.36690077, 0.30311728]], dtype=float32)"
      ]
     },
     "execution_count": 14,
     "metadata": {},
     "output_type": "execute_result"
    }
   ],
   "source": [
    "pnet.predict(data.X_train[:3,:], batch_size=1)"
   ]
  },
  {
   "cell_type": "code",
   "execution_count": 15,
   "metadata": {},
   "outputs": [
    {
     "data": {
      "text/plain": [
       "array([[0., 0., 1.],\n",
       "       [0., 0., 1.],\n",
       "       [0., 1., 0.]], dtype=float32)"
      ]
     },
     "execution_count": 15,
     "metadata": {},
     "output_type": "execute_result"
    }
   ],
   "source": [
    "data.y_train[:3]"
   ]
  },
  {
   "cell_type": "code",
   "execution_count": 16,
   "metadata": {},
   "outputs": [
    {
     "data": {
      "text/plain": [
       "array([[0.3331025 , 0.32186475, 0.34503278],\n",
       "       [0.32999173, 0.32029146, 0.34971684],\n",
       "       [0.33184165, 0.32034132, 0.347817  ]], dtype=float32)"
      ]
     },
     "execution_count": 16,
     "metadata": {},
     "output_type": "execute_result"
    }
   ],
   "source": [
    "pnet.predict(data.X_test[-3:,:], batch_size=1)"
   ]
  },
  {
   "cell_type": "code",
   "execution_count": 17,
   "metadata": {},
   "outputs": [
    {
     "data": {
      "text/plain": [
       "array([[1., 0., 0.],\n",
       "       [1., 0., 0.],\n",
       "       [1., 0., 0.]], dtype=float32)"
      ]
     },
     "execution_count": 17,
     "metadata": {},
     "output_type": "execute_result"
    }
   ],
   "source": [
    "data.y_test[-3:]"
   ]
  },
  {
   "cell_type": "code",
   "execution_count": 18,
   "metadata": {},
   "outputs": [
    {
     "data": {
      "text/plain": [
       "[<matplotlib.lines.Line2D at 0x7f35404e9240>]"
      ]
     },
     "execution_count": 18,
     "metadata": {},
     "output_type": "execute_result"
    },
    {
     "data": {
      "image/png": "[encoded data removed]",
      "text/plain": [
       "<Figure size 432x288 with 1 Axes>"
      ]
     },
     "metadata": {
      "needs_background": "light"
     },
     "output_type": "display_data"
    }
   ],
   "source": [
    "plt.plot(np.arange(200), data.X_train[-2])"
   ]
  },
  {
   "cell_type": "code",
   "execution_count": 27,
   "metadata": {},
   "outputs": [
    {
     "data": {
      "text/plain": [
       "<tf.Variable 'classifier/kernel:0' shape=(12, 3) dtype=float32, numpy=\n",
       "array([[4.4596214e-02, 1.4278108e-01, 0.0000000e+00],\n",
       "       [0.0000000e+00, 5.6222707e-02, 0.0000000e+00],\n",
       "       [1.4716601e-01, 0.0000000e+00, 0.0000000e+00],\n",
       "       [0.0000000e+00, 2.6920002e-03, 0.0000000e+00],\n",
       "       [0.0000000e+00, 5.5495358e-01, 0.0000000e+00],\n",
       "       [0.0000000e+00, 0.0000000e+00, 3.0252284e-01],\n",
       "       [0.0000000e+00, 0.0000000e+00, 4.8569152e-03],\n",
       "       [0.0000000e+00, 1.5118364e-02, 0.0000000e+00],\n",
       "       [0.0000000e+00, 0.0000000e+00, 4.6219071e-04],\n",
       "       [0.0000000e+00, 0.0000000e+00, 6.2252730e-01],\n",
       "       [0.0000000e+00, 0.0000000e+00, 0.0000000e+00],\n",
       "       [0.0000000e+00, 0.0000000e+00, 0.0000000e+00]], dtype=float32)>"
      ]
     },
     "execution_count": 27,
     "metadata": {},
     "output_type": "execute_result"
    }
   ],
   "source": [
    "pnet.classifier.weights[0]"
   ]
  },
  {
   "cell_type": "code",
   "execution_count": 20,
   "metadata": {},
   "outputs": [
    {
     "data": {
      "text/plain": [
       "[<tf.Variable 'dense/kernel:0' shape=(16, 3) dtype=float32, numpy=\n",
       " array([[ 0.26235294, -0.72868234,  0.2940476 ],\n",
       "        [ 0.4007082 , -0.5022236 ,  0.7194336 ],\n",
       "        [-0.42036492,  0.15653232, -0.3789319 ],\n",
       "        [-0.62114495,  0.654611  ,  0.11580774],\n",
       "        [-0.21359725,  0.36978152, -0.559814  ],\n",
       "        [-0.28852865,  0.4597415 , -0.26221383],\n",
       "        [-0.16463281,  0.6001825 , -0.00912399],\n",
       "        [ 0.15377867,  0.6270688 ,  0.02343298],\n",
       "        [ 0.00737225, -0.37492007, -0.02500223],\n",
       "        [-0.22648765,  0.61171675,  0.5161362 ],\n",
       "        [-0.54430336,  0.6570726 ,  0.41015047],\n",
       "        [ 0.69531476, -0.5288958 , -0.05385625],\n",
       "        [-0.34874824, -0.5706958 ,  0.42223084],\n",
       "        [ 0.501098  ,  0.23402044, -0.06349454],\n",
       "        [-0.6103677 , -0.35336393, -0.0624767 ],\n",
       "        [-0.6890278 ,  0.36532387,  0.31711188]], dtype=float32)>,\n",
       " <tf.Variable 'dense/bias:0' shape=(3,) dtype=float32, numpy=array([-0.11323137, -0.08032209,  0.13299073], dtype=float32)>]"
      ]
     },
     "execution_count": 20,
     "metadata": {},
     "output_type": "execute_result"
    }
   ],
   "source": [
    "encoder_classifier.layers[-1].weights"
   ]
  },
  {
   "cell_type": "code",
   "execution_count": 21,
   "metadata": {},
   "outputs": [
    {
     "data": {
      "text/plain": [
       "<tf.Tensor: id=383793, shape=(), dtype=float32, numpy=24.579487>"
      ]
     },
     "execution_count": 21,
     "metadata": {},
     "output_type": "execute_result"
    }
   ],
   "source": [
    "pnet.prototypes_layer._diversity_term()"
   ]
  },
  {
   "cell_type": "code",
   "execution_count": 22,
   "metadata": {},
   "outputs": [
    {
     "data": {
      "text/plain": [
       "array([[ 0.30777535,  0.18210857, -0.1733888 , -0.25231943, -0.2078278 ,\n",
       "        -0.2570162 , -0.20708437, -0.2552549 ,  0.26357135,  0.38411033,\n",
       "         0.26860392, -0.34871837,  0.58411616, -0.39913175,  0.42202175,\n",
       "         0.28159726]], dtype=float32)"
      ]
     },
     "execution_count": 22,
     "metadata": {},
     "output_type": "execute_result"
    }
   ],
   "source": [
    "pnet.encoder.predict(data.X_train[np.newaxis, 0], batch_size=1)"
   ]
  },
  {
   "cell_type": "code",
   "execution_count": 33,
   "metadata": {},
   "outputs": [],
   "source": [
    "similarities = pnet.similarity_vector(data.X_train[1:3]).numpy()"
   ]
  },
  {
   "cell_type": "code",
   "execution_count": 31,
   "metadata": {},
   "outputs": [
    {
     "data": {
      "text/plain": [
       "array([[0., 0., 1.],\n",
       "       [0., 1., 0.]], dtype=float32)"
      ]
     },
     "execution_count": 31,
     "metadata": {},
     "output_type": "execute_result"
    }
   ],
   "source": [
    "data.y_train[1:3]"
   ]
  },
  {
   "cell_type": "code",
   "execution_count": 34,
   "metadata": {},
   "outputs": [
    {
     "data": {
      "text/plain": [
       "array([[0.12440617, 0.10812616, 0.11286819, 0.10753155, 0.12717317,\n",
       "        0.7322669 , 0.72014695, 0.14373279, 0.64191914, 0.80144465,\n",
       "        0.01879735, 0.01879735],\n",
       "       [0.91263515, 0.39591092, 0.0629258 , 0.76952124, 0.40139166,\n",
       "        0.10628334, 0.1316222 , 0.43894532, 0.11387581, 0.11572197,\n",
       "        0.01788983, 0.01788983]], dtype=float32)"
      ]
     },
     "execution_count": 34,
     "metadata": {},
     "output_type": "execute_result"
    }
   ],
   "source": [
    "similarities"
   ]
  },
  {
   "cell_type": "code",
   "execution_count": 36,
   "metadata": {},
   "outputs": [
    {
     "data": {
      "text/plain": [
       "array([1, 1, 0, 1, 1, 2, 2, 1, 2, 2, 0, 0])"
      ]
     },
     "execution_count": 36,
     "metadata": {},
     "output_type": "execute_result"
    }
   ],
   "source": [
    "np.argmax(pnet.classifier.weights[0].numpy(), -1)"
   ]
  },
  {
   "cell_type": "code",
   "execution_count": null,
   "metadata": {},
   "outputs": [],
   "source": []
  }
 ],
 "metadata": {
  "kernelspec": {
   "display_name": "Python 3",
   "language": "python",
   "name": "python3"
  },
  "language_info": {
   "codemirror_mode": {
    "name": "ipython",
    "version": 3
   },
   "file_extension": ".py",
   "mimetype": "text/x-python",
   "name": "python",
   "nbconvert_exporter": "python",
   "pygments_lexer": "ipython3",
   "version": "3.7.3"
  }
 },
 "nbformat": 4,
 "nbformat_minor": 2
}
