{
 "cells": [
  {
   "cell_type": "code",
   "execution_count": 1,
   "metadata": {},
   "outputs": [],
   "source": [
    "import numpy as np\n",
    "import matplotlib.pyplot as plt\n",
    "\n",
    "import tensorflow as tf\n",
    "from tensorflow.keras import optimizers, regularizers, models, layers, callbacks\n",
    "from sklearn.utils import class_weight\n",
    "\n",
    "from prosenet import ProSeNet, PrototypeProjection, datasets, ops"
   ]
  },
  {
   "cell_type": "code",
   "execution_count": 2,
   "metadata": {},
   "outputs": [],
   "source": [
    "# Dataset parameters\n",
    "\n",
    "num_classes = 3\n",
    "sequence_length = 200\n",
    "num_features = 1"
   ]
  },
  {
   "cell_type": "code",
   "execution_count": 3,
   "metadata": {},
   "outputs": [
    {
     "name": "stdout",
     "output_type": "stream",
     "text": [
      "Model: \"pro_se_net\"\n",
      "_________________________________________________________________\n",
      "Layer (type)                 Output Shape              Param #   \n",
      "=================================================================\n",
      "sequential (Sequential)      (None, 16)                640       \n",
      "_________________________________________________________________\n",
      "prototypes (Prototypes)      multiple                  192       \n",
      "_________________________________________________________________\n",
      "classifier (Dense)           multiple                  36        \n",
      "=================================================================\n",
      "Total params: 868\n",
      "Trainable params: 868\n",
      "Non-trainable params: 0\n",
      "_________________________________________________________________\n"
     ]
    }
   ],
   "source": [
    "# Set any non-default args\n",
    "new_rnn_args = {\n",
    "    'layers' : [8],\n",
    "    'layer_args' : {\n",
    "        'dropout' : 0.1,\n",
    "        'activity_regularizer' : regularizers.l2(0.1)    # Note: not in paper\n",
    "    }\n",
    "}\n",
    "\n",
    "new_proto_args = {\n",
    "    'dmin' : 2.0,\n",
    "    'Ld' : 0.1, #0.1,\n",
    "    'Lc' : 0.01,\n",
    "    'Le' : 0.1\n",
    "}\n",
    "\n",
    "pnet = ProSeNet(input_shape=(sequence_length, num_features), \n",
    "                nclasses=num_classes, \n",
    "                k=12, \n",
    "                rnn_args=new_rnn_args,\n",
    "                prototypes_args=new_proto_args,\n",
    "                L1=0.1)\n",
    "\n",
    "pnet.build( (None, sequence_length, num_features) )\n",
    "\n",
    "pnet.summary()"
   ]
  },
  {
   "cell_type": "code",
   "execution_count": 4,
   "metadata": {},
   "outputs": [
    {
     "data": {
      "text/plain": [
       "((1200, 200, 1), (1200, 3), (300, 200, 1), (300, 3))"
      ]
     },
     "execution_count": 4,
     "metadata": {},
     "output_type": "execute_result"
    }
   ],
   "source": [
    "data = datasets.SyntheticSignalsDataset(examples_per_class=500)\n",
    "data.load_data()\n",
    "\n",
    "data.X_train.shape, data.y_train.shape, data.X_test.shape, data.y_test.shape"
   ]
  },
  {
   "cell_type": "code",
   "execution_count": 5,
   "metadata": {},
   "outputs": [
    {
     "data": {
      "text/plain": [
       "array([0.6725    , 0.66583333, 0.66166667])"
      ]
     },
     "execution_count": 5,
     "metadata": {},
     "output_type": "execute_result"
    }
   ],
   "source": [
    "train_gen = datasets.DataGenerator(data.X_train, data.y_train, batch_size=128)\n",
    "\n",
    "test_gen = datasets.DataGenerator(data.X_test, data.y_test, batch_size=128)\n",
    "\n",
    "class_weights = 1 - (np.bincount(np.argmax(data.y_train, 1)) / data.y_train.shape[0])\n",
    "\n",
    "# Setting class 0 to 0.001, need to just get it to stop overfitting that class\n",
    "#class_weights[0] = 0.0\n",
    "class_weights"
   ]
  },
  {
   "cell_type": "markdown",
   "metadata": {},
   "source": [
    "# First train just the `encoder`"
   ]
  },
  {
   "cell_type": "code",
   "execution_count": 6,
   "metadata": {},
   "outputs": [
    {
     "name": "stdout",
     "output_type": "stream",
     "text": [
      "Model: \"model\"\n",
      "_________________________________________________________________\n",
      "Layer (type)                 Output Shape              Param #   \n",
      "=================================================================\n",
      "input_1 (InputLayer)         [(None, 200, 1)]          0         \n",
      "_________________________________________________________________\n",
      "bidirectional (Bidirectional (None, 16)                640       \n",
      "_________________________________________________________________\n",
      "dense (Dense)                (None, 3)                 51        \n",
      "=================================================================\n",
      "Total params: 691\n",
      "Trainable params: 691\n",
      "Non-trainable params: 0\n",
      "_________________________________________________________________\n"
     ]
    }
   ],
   "source": [
    "x_encoded = pnet.encoder.output\n",
    "\n",
    "pred = layers.Dense(3, activation='softmax')(x_encoded)\n",
    "\n",
    "encoder_classifier = models.Model(inputs=pnet.encoder.input, outputs=pred)\n",
    "\n",
    "encoder_classifier.summary()"
   ]
  },
  {
   "cell_type": "code",
   "execution_count": 7,
   "metadata": {},
   "outputs": [
    {
     "name": "stdout",
     "output_type": "stream",
     "text": [
      "Epoch 1/25\n",
      "10/10 [==============================] - 2s 180ms/step - loss: 1.0505 - accuracy: 0.5400 - val_loss: 1.0188 - val_accuracy: 0.6200\n",
      "Epoch 2/25\n",
      "10/10 [==============================] - 1s 51ms/step - loss: 1.0122 - accuracy: 0.6075 - val_loss: 0.9860 - val_accuracy: 0.6900\n",
      "Epoch 3/25\n",
      "10/10 [==============================] - 0s 45ms/step - loss: 0.9783 - accuracy: 0.6808 - val_loss: 0.9536 - val_accuracy: 0.7800\n",
      "Epoch 4/25\n",
      "10/10 [==============================] - 0s 47ms/step - loss: 0.9482 - accuracy: 0.8417 - val_loss: 0.9205 - val_accuracy: 0.8300\n",
      "Epoch 5/25\n",
      "10/10 [==============================] - 0s 49ms/step - loss: 0.9108 - accuracy: 0.8708 - val_loss: 0.8793 - val_accuracy: 0.9367\n",
      "Epoch 6/25\n",
      "10/10 [==============================] - 0s 49ms/step - loss: 0.8603 - accuracy: 0.9592 - val_loss: 0.8251 - val_accuracy: 0.8767\n",
      "Epoch 7/25\n",
      "10/10 [==============================] - 1s 51ms/step - loss: 0.8124 - accuracy: 0.9100 - val_loss: 0.7831 - val_accuracy: 0.7900\n",
      "Epoch 8/25\n",
      "10/10 [==============================] - 1s 50ms/step - loss: 0.7709 - accuracy: 0.8458 - val_loss: 0.7412 - val_accuracy: 0.8200\n",
      "Epoch 9/25\n",
      "10/10 [==============================] - 1s 52ms/step - loss: 0.7305 - accuracy: 0.8575 - val_loss: 0.7045 - val_accuracy: 0.8800\n",
      "Epoch 10/25\n",
      "10/10 [==============================] - 0s 50ms/step - loss: 0.6978 - accuracy: 0.8867 - val_loss: 0.6720 - val_accuracy: 0.9433\n",
      "Epoch 11/25\n",
      "10/10 [==============================] - 1s 50ms/step - loss: 0.6666 - accuracy: 0.9483 - val_loss: 0.6396 - val_accuracy: 0.9600\n",
      "Epoch 12/25\n",
      "10/10 [==============================] - 1s 56ms/step - loss: 0.6362 - accuracy: 0.9642 - val_loss: 0.6101 - val_accuracy: 1.0000\n",
      "Epoch 13/25\n",
      "10/10 [==============================] - 0s 46ms/step - loss: 0.6058 - accuracy: 0.9883 - val_loss: 0.5803 - val_accuracy: 1.0000\n",
      "Epoch 14/25\n",
      "10/10 [==============================] - 0s 46ms/step - loss: 0.5741 - accuracy: 0.9983 - val_loss: 0.5502 - val_accuracy: 1.0000\n",
      "Epoch 15/25\n",
      "10/10 [==============================] - 1s 52ms/step - loss: 0.5479 - accuracy: 0.9958 - val_loss: 0.5188 - val_accuracy: 1.0000\n",
      "Epoch 16/25\n",
      "10/10 [==============================] - 0s 49ms/step - loss: 0.5176 - accuracy: 0.9933 - val_loss: 0.4909 - val_accuracy: 1.0000\n",
      "Epoch 17/25\n",
      "10/10 [==============================] - 0s 47ms/step - loss: 0.4891 - accuracy: 0.9975 - val_loss: 0.4641 - val_accuracy: 1.0000\n",
      "Epoch 18/25\n",
      "10/10 [==============================] - 1s 56ms/step - loss: 0.4700 - accuracy: 0.9933 - val_loss: 0.4381 - val_accuracy: 1.0000\n",
      "Epoch 19/25\n",
      "10/10 [==============================] - 1s 57ms/step - loss: 0.4440 - accuracy: 0.9883 - val_loss: 0.4196 - val_accuracy: 1.0000\n",
      "Epoch 20/25\n",
      "10/10 [==============================] - 1s 52ms/step - loss: 0.4211 - accuracy: 0.9875 - val_loss: 0.3915 - val_accuracy: 1.0000\n",
      "Epoch 21/25\n",
      "10/10 [==============================] - 1s 51ms/step - loss: 0.3988 - accuracy: 0.9950 - val_loss: 0.3751 - val_accuracy: 1.0000\n",
      "Epoch 22/25\n",
      "10/10 [==============================] - 1s 50ms/step - loss: 0.3844 - accuracy: 0.9842 - val_loss: 0.3551 - val_accuracy: 1.0000\n",
      "Epoch 23/25\n",
      "10/10 [==============================] - 1s 52ms/step - loss: 0.3691 - accuracy: 0.9883 - val_loss: 0.3382 - val_accuracy: 1.0000\n",
      "Epoch 24/25\n",
      "10/10 [==============================] - 0s 47ms/step - loss: 0.3542 - accuracy: 0.9917 - val_loss: 0.3231 - val_accuracy: 1.0000\n",
      "Epoch 25/25\n",
      "10/10 [==============================] - 0s 46ms/step - loss: 0.3306 - accuracy: 0.9942 - val_loss: 0.3110 - val_accuracy: 1.0000\n"
     ]
    },
    {
     "data": {
      "text/plain": [
       "<tensorflow.python.keras.callbacks.History at 0x7f55701cf1d0>"
      ]
     },
     "execution_count": 7,
     "metadata": {},
     "output_type": "execute_result"
    }
   ],
   "source": [
    "rms = optimizers.RMSprop()\n",
    "\n",
    "encoder_classifier.trainable = True\n",
    "\n",
    "encoder_classifier.compile(optimizer=rms, loss='categorical_crossentropy', metrics=['accuracy'])\n",
    "\n",
    "encoder_classifier.fit_generator(train_gen, \n",
    "                   validation_data=test_gen, \n",
    "                   epochs=25,\n",
    "                   shuffle=False)"
   ]
  },
  {
   "cell_type": "markdown",
   "metadata": {},
   "source": [
    "# Now freeze the `encoder`"
   ]
  },
  {
   "cell_type": "code",
   "execution_count": 8,
   "metadata": {},
   "outputs": [],
   "source": [
    "pnet.encoder.trainable = False"
   ]
  },
  {
   "cell_type": "code",
   "execution_count": 9,
   "metadata": {},
   "outputs": [],
   "source": [
    "# Define come `Callback`s\n",
    "\n",
    "init_lr = 0.01 # 1.0\n",
    "\n",
    "def lr_schedule(epoch):\n",
    "    if epoch <= 10:\n",
    "        return init_lr\n",
    "    else:\n",
    "        return init_lr * 0.85**(epoch - 10)\n",
    "    \n",
    "lr_schedule = callbacks.LearningRateScheduler(lr_schedule)\n",
    "\n",
    "early_stopping = callbacks.EarlyStopping(patience=3)\n",
    "\n",
    "projection = PrototypeProjection(train_gen, freq=4)"
   ]
  },
  {
   "cell_type": "code",
   "execution_count": 10,
   "metadata": {
    "scrolled": false
   },
   "outputs": [
    {
     "name": "stdout",
     "output_type": "stream",
     "text": [
      "Epoch 1/15\n",
      " 9/10 [==========================>...] - ETA: 0s - loss: 18.1495 - accuracy: 0.3455\n",
      "Computing prototype projection...\n",
      "... assigned new prototypes from projections.\n",
      "10/10 [==============================] - 2s 172ms/step - loss: 17.2036 - accuracy: 0.3435 - val_loss: 1.6553 - val_accuracy: 0.3300\n",
      "Epoch 2/15\n",
      "10/10 [==============================] - 1s 56ms/step - loss: 8.4795 - accuracy: 0.5163 - val_loss: 1.5740 - val_accuracy: 0.4900\n",
      "Epoch 3/15\n",
      "10/10 [==============================] - 0s 50ms/step - loss: 7.3874 - accuracy: 0.5038 - val_loss: 1.5553 - val_accuracy: 0.5033\n",
      "Epoch 4/15\n",
      "10/10 [==============================] - 1s 55ms/step - loss: 6.7317 - accuracy: 0.4972 - val_loss: 1.5394 - val_accuracy: 0.5033\n",
      "Epoch 5/15\n",
      " 9/10 [==========================>...] - ETA: 0s - loss: 6.4929 - accuracy: 0.5010\n",
      "Computing prototype projection...\n",
      "... assigned new prototypes from projections.\n",
      "10/10 [==============================] - 1s 76ms/step - loss: 6.3203 - accuracy: 0.5030 - val_loss: 1.5244 - val_accuracy: 0.5100\n",
      "Epoch 6/15\n",
      "10/10 [==============================] - 1s 55ms/step - loss: 6.3452 - accuracy: 0.5373 - val_loss: 1.5038 - val_accuracy: 0.5233\n",
      "Epoch 7/15\n",
      "10/10 [==============================] - 1s 52ms/step - loss: 6.1328 - accuracy: 0.6343 - val_loss: 1.4889 - val_accuracy: 0.8867\n",
      "Epoch 8/15\n",
      "10/10 [==============================] - 1s 57ms/step - loss: 5.9964 - accuracy: 0.8634 - val_loss: 1.4746 - val_accuracy: 0.8967\n",
      "Epoch 9/15\n",
      " 9/10 [==========================>...] - ETA: 0s - loss: 6.0426 - accuracy: 0.8648\n",
      "Computing prototype projection...\n",
      "... assigned new prototypes from projections.\n",
      "10/10 [==============================] - 1s 77ms/step - loss: 5.8630 - accuracy: 0.8680 - val_loss: 1.4625 - val_accuracy: 0.9167\n",
      "Epoch 10/15\n",
      "10/10 [==============================] - 1s 51ms/step - loss: 6.0179 - accuracy: 0.8912 - val_loss: 1.4426 - val_accuracy: 0.9167\n",
      "Epoch 11/15\n",
      "10/10 [==============================] - 0s 49ms/step - loss: 5.9380 - accuracy: 0.8956 - val_loss: 1.4299 - val_accuracy: 0.9233\n",
      "Epoch 12/15\n",
      "10/10 [==============================] - 1s 55ms/step - loss: 5.9305 - accuracy: 0.9066 - val_loss: 1.4199 - val_accuracy: 0.9333\n",
      "Epoch 13/15\n",
      " 9/10 [==========================>...] - ETA: 0s - loss: 6.0017 - accuracy: 0.9332\n",
      "Computing prototype projection...\n",
      "... assigned new prototypes from projections.\n",
      "10/10 [==============================] - 1s 69ms/step - loss: 5.8370 - accuracy: 0.9317 - val_loss: 1.4118 - val_accuracy: 0.9400\n",
      "Epoch 14/15\n",
      "10/10 [==============================] - 1s 51ms/step - loss: 5.8697 - accuracy: 0.9503 - val_loss: 1.3969 - val_accuracy: 0.9500\n",
      "Epoch 15/15\n",
      "10/10 [==============================] - 1s 51ms/step - loss: 5.7712 - accuracy: 0.9437 - val_loss: 1.3900 - val_accuracy: 0.9567\n"
     ]
    },
    {
     "data": {
      "text/plain": [
       "<tensorflow.python.keras.callbacks.History at 0x7f55701c9f28>"
      ]
     },
     "execution_count": 10,
     "metadata": {},
     "output_type": "execute_result"
    }
   ],
   "source": [
    "sgd = optimizers.SGD(learning_rate=init_lr, clipnorm=5.0)\n",
    "\n",
    "pnet.compile(optimizer=sgd, loss='categorical_crossentropy', metrics=['accuracy'])\n",
    "\n",
    "pnet.fit_generator(train_gen, \n",
    "                   validation_data=test_gen, \n",
    "                   epochs=15,\n",
    "                   callbacks=[early_stopping, lr_schedule, projection],\n",
    "                   shuffle=False)"
   ]
  },
  {
   "cell_type": "markdown",
   "metadata": {},
   "source": [
    "# Diagnostics"
   ]
  },
  {
   "cell_type": "code",
   "execution_count": 11,
   "metadata": {},
   "outputs": [
    {
     "data": {
      "text/plain": [
       "array([[-0.316839  , -0.4693163 ,  0.5380069 , -0.19191603,  0.28488824,\n",
       "         0.04541259,  0.18359849,  0.53131217, -0.19318098,  0.23849864,\n",
       "        -0.27405536, -0.33733866,  0.43038473,  0.24915837, -0.13070036,\n",
       "         0.29243013]], dtype=float32)"
      ]
     },
     "execution_count": 11,
     "metadata": {},
     "output_type": "execute_result"
    }
   ],
   "source": [
    "# Encoding layer(s) output\n",
    "pnet.encoder.predict(data.X_train[np.newaxis, 0], batch_size=1)"
   ]
  },
  {
   "cell_type": "code",
   "execution_count": 12,
   "metadata": {},
   "outputs": [
    {
     "name": "stdout",
     "output_type": "stream",
     "text": [
      "-0.6829214 0.7678912\n"
     ]
    },
    {
     "data": {
      "text/plain": [
       "<matplotlib.colorbar.Colorbar at 0x7f5514179128>"
      ]
     },
     "execution_count": 12,
     "metadata": {},
     "output_type": "execute_result"
    },
    {
     "data": {
      "image/png": "[encoded data removed]",
      "text/plain": [
       "<Figure size 720x720 with 2 Axes>"
      ]
     },
     "metadata": {
      "needs_background": "light"
     },
     "output_type": "display_data"
    }
   ],
   "source": [
    "# Prototype layer weights\n",
    "protos = np.squeeze(pnet.prototypes_layer.weights[0].numpy())\n",
    "print(protos.min(), protos.max())\n",
    "\n",
    "fig, ax = plt.subplots(figsize=(10,10))\n",
    "cax = ax.matshow(protos, cmap=plt.cm.RdBu)\n",
    "fig.colorbar(cax, ax=ax)"
   ]
  },
  {
   "cell_type": "code",
   "execution_count": 13,
   "metadata": {},
   "outputs": [
    {
     "name": "stdout",
     "output_type": "stream",
     "text": [
      "0.0 0.47078842\n"
     ]
    },
    {
     "data": {
      "text/plain": [
       "<matplotlib.colorbar.Colorbar at 0x7f55140e5e80>"
      ]
     },
     "execution_count": 13,
     "metadata": {},
     "output_type": "execute_result"
    },
    {
     "data": {
      "image/png": "[encoded data removed]",
      "text/plain": [
       "<Figure size 720x720 with 2 Axes>"
      ]
     },
     "metadata": {
      "needs_background": "light"
     },
     "output_type": "display_data"
    }
   ],
   "source": [
    "pred_weights = np.squeeze(pnet.classifier.weights[0].numpy())\n",
    "print(pred_weights.min(), pred_weights.max())\n",
    "\n",
    "fig, ax = plt.subplots(figsize=(10,10))\n",
    "cax = ax.matshow(pred_weights, cmap=plt.cm.RdBu)\n",
    "fig.colorbar(cax)"
   ]
  },
  {
   "cell_type": "code",
   "execution_count": 18,
   "metadata": {},
   "outputs": [
    {
     "data": {
      "text/plain": [
       "array([[0.37355912, 0.32801726, 0.29842365],\n",
       "       [0.38386393, 0.3290254 , 0.2871107 ],\n",
       "       [0.38746673, 0.33229753, 0.28023577]], dtype=float32)"
      ]
     },
     "execution_count": 18,
     "metadata": {},
     "output_type": "execute_result"
    }
   ],
   "source": [
    "pnet.predict(data.X_train[:3,:], batch_size=1)"
   ]
  },
  {
   "cell_type": "code",
   "execution_count": 19,
   "metadata": {},
   "outputs": [
    {
     "data": {
      "text/plain": [
       "array([[1., 0., 0.],\n",
       "       [1., 0., 0.],\n",
       "       [1., 0., 0.]], dtype=float32)"
      ]
     },
     "execution_count": 19,
     "metadata": {},
     "output_type": "execute_result"
    }
   ],
   "source": [
    "data.y_train[:3]"
   ]
  },
  {
   "cell_type": "code",
   "execution_count": 20,
   "metadata": {},
   "outputs": [
    {
     "data": {
      "text/plain": [
       "array([[0.2895558 , 0.31298056, 0.39746362],\n",
       "       [0.2884386 , 0.31169042, 0.399871  ],\n",
       "       [0.31417403, 0.417354  , 0.268472  ]], dtype=float32)"
      ]
     },
     "execution_count": 20,
     "metadata": {},
     "output_type": "execute_result"
    }
   ],
   "source": [
    "pnet.predict(data.X_test[-3:,:], batch_size=1)"
   ]
  },
  {
   "cell_type": "code",
   "execution_count": 21,
   "metadata": {},
   "outputs": [
    {
     "data": {
      "text/plain": [
       "array([[0., 0., 1.],\n",
       "       [0., 0., 1.],\n",
       "       [0., 1., 0.]], dtype=float32)"
      ]
     },
     "execution_count": 21,
     "metadata": {},
     "output_type": "execute_result"
    }
   ],
   "source": [
    "data.y_test[-3:]"
   ]
  },
  {
   "cell_type": "code",
   "execution_count": 22,
   "metadata": {},
   "outputs": [
    {
     "data": {
      "text/plain": [
       "[<matplotlib.lines.Line2D at 0x7f54e81ef0f0>]"
      ]
     },
     "execution_count": 22,
     "metadata": {},
     "output_type": "execute_result"
    },
    {
     "data": {
      "image/png": "[encoded data removed]",
      "text/plain": [
       "<Figure size 432x288 with 1 Axes>"
      ]
     },
     "metadata": {
      "needs_background": "light"
     },
     "output_type": "display_data"
    }
   ],
   "source": [
    "plt.plot(np.arange(200), data.X_train[-2])"
   ]
  },
  {
   "cell_type": "code",
   "execution_count": 23,
   "metadata": {},
   "outputs": [
    {
     "data": {
      "text/plain": [
       "<tf.Variable 'classifier/kernel:0' shape=(12, 3) dtype=float32, numpy=\n",
       "array([[0.0000000e+00, 3.2467517e-04, 0.0000000e+00],\n",
       "       [1.0953260e-01, 4.7078842e-01, 0.0000000e+00],\n",
       "       [6.6130646e-02, 0.0000000e+00, 0.0000000e+00],\n",
       "       [0.0000000e+00, 0.0000000e+00, 5.3521148e-03],\n",
       "       [6.2379647e-02, 0.0000000e+00, 2.3488518e-02],\n",
       "       [0.0000000e+00, 0.0000000e+00, 2.1571557e-01],\n",
       "       [9.0649677e-03, 0.0000000e+00, 0.0000000e+00],\n",
       "       [3.8845047e-01, 2.7934647e-01, 0.0000000e+00],\n",
       "       [0.0000000e+00, 2.8521588e-01, 0.0000000e+00],\n",
       "       [0.0000000e+00, 0.0000000e+00, 4.5170930e-01],\n",
       "       [0.0000000e+00, 4.2916279e-02, 1.4458661e-01],\n",
       "       [2.8953439e-01, 1.6807571e-02, 0.0000000e+00]], dtype=float32)>"
      ]
     },
     "execution_count": 23,
     "metadata": {},
     "output_type": "execute_result"
    }
   ],
   "source": [
    "pnet.classifier.weights[0]"
   ]
  },
  {
   "cell_type": "code",
   "execution_count": 24,
   "metadata": {},
   "outputs": [
    {
     "data": {
      "text/plain": [
       "[<tf.Variable 'dense/kernel:0' shape=(16, 3) dtype=float32, numpy=\n",
       " array([[-0.22278406, -0.04005273,  0.32528096],\n",
       "        [-0.603817  ,  0.26458955,  0.3604902 ],\n",
       "        [ 0.40229654, -0.5003784 , -0.6207006 ],\n",
       "        [ 0.23789   ,  0.5355962 ,  0.09878284],\n",
       "        [ 0.16279262, -0.45576993, -0.35205734],\n",
       "        [-0.2922295 , -0.2604457 ,  0.5086053 ],\n",
       "        [ 0.09458225, -0.51006514, -0.3957145 ],\n",
       "        [ 0.5249681 , -0.53352654, -0.2928095 ],\n",
       "        [ 0.1659744 ,  0.52869403, -0.742845  ],\n",
       "        [ 0.34957924, -0.7623362 ,  0.2790925 ],\n",
       "        [-0.3119695 ,  0.387664  ,  0.4450217 ],\n",
       "        [-0.5589899 ,  0.4216394 ,  0.7230646 ],\n",
       "        [ 0.5714559 , -0.43220693,  0.04762669],\n",
       "        [ 0.38471583, -0.08036952, -0.47103578],\n",
       "        [-0.1689946 ,  0.52039003, -0.5688088 ],\n",
       "        [ 0.49436602, -0.5392497 ,  0.7708549 ]], dtype=float32)>,\n",
       " <tf.Variable 'dense/bias:0' shape=(3,) dtype=float32, numpy=array([-0.06705799, -0.09360906,  0.09815807], dtype=float32)>]"
      ]
     },
     "execution_count": 24,
     "metadata": {},
     "output_type": "execute_result"
    }
   ],
   "source": [
    "encoder_classifier.layers[-1].weights"
   ]
  },
  {
   "cell_type": "code",
   "execution_count": 25,
   "metadata": {},
   "outputs": [
    {
     "data": {
      "text/plain": [
       "<tf.Tensor: id=383847, shape=(), dtype=float32, numpy=18.820484>"
      ]
     },
     "execution_count": 25,
     "metadata": {},
     "output_type": "execute_result"
    }
   ],
   "source": [
    "pnet.prototypes_layer._diversity_term()"
   ]
  },
  {
   "cell_type": "code",
   "execution_count": 26,
   "metadata": {},
   "outputs": [
    {
     "data": {
      "text/plain": [
       "array([[-0.316839  , -0.4693163 ,  0.5380069 , -0.19191603,  0.28488824,\n",
       "         0.04541259,  0.18359849,  0.53131217, -0.19318098,  0.23849864,\n",
       "        -0.27405536, -0.33733866,  0.43038473,  0.24915837, -0.13070036,\n",
       "         0.29243013]], dtype=float32)"
      ]
     },
     "execution_count": 26,
     "metadata": {},
     "output_type": "execute_result"
    }
   ],
   "source": [
    "pnet.encoder.predict(data.X_train[np.newaxis, 0], batch_size=1)"
   ]
  },
  {
   "cell_type": "code",
   "execution_count": null,
   "metadata": {},
   "outputs": [],
   "source": []
  }
 ],
 "metadata": {
  "kernelspec": {
   "display_name": "Python 3",
   "language": "python",
   "name": "python3"
  },
  "language_info": {
   "codemirror_mode": {
    "name": "ipython",
    "version": 3
   },
   "file_extension": ".py",
   "mimetype": "text/x-python",
   "name": "python",
   "nbconvert_exporter": "python",
   "pygments_lexer": "ipython3",
   "version": "3.7.3"
  }
 },
 "nbformat": 4,
 "nbformat_minor": 2
}
